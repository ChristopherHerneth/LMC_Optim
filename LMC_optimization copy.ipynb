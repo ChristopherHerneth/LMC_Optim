{
 "cells": [
  {
   "cell_type": "code",
   "execution_count": 1,
   "metadata": {},
   "outputs": [],
   "source": [
    "%load_ext autoreload\n",
    "%autoreload 2\n",
    " # then imported files are u pdated each time a cell is executed (good if functions in py files are added and modified)\n",
    "\n",
    "import scipy.io\n",
    "import numpy as np\n",
    "import pandas as pd\n",
    "import plotly.graph_objects as go\n",
    "import pickle\n",
    "import sys\n",
    "import os\n",
    "\n",
    "os.add_dll_directory(\"C:/OpenSim4.4/bin\") # otherwise module _sombody not found error!\n",
    "\n",
    "import opensim as osim\n",
    "from scipy.spatial.transform import Rotation as R\n",
    "\n",
    "sys.path.insert(0, '..')\n",
    "sys.path.insert(0, '...')\n",
    "\n",
    "from OsimPython.plotUtil import addArrow, addMarker\n",
    "from OsimPython.osim_type_util import osimVec3ToArray\n",
    "\n",
    "from Linalg.ray_tracing_util import intersectionPoint_pln_line, in_hull, dist_lines, get_regressionPlane\n",
    "from Paper_util.IROS_2024_LMC.LMC_util import plotLMC, make_LMC, getLMC_plns, check_intersection_finger, check_intersection_palm, check_LMC_Hand_visibility\n",
    "\n",
    "from OsimPython.Hand_model import getHandModel, getHandMarkers, setHandPose, plot_hand\n",
    "\n",
    "#paper_path = 'D:\\Dokumente\\Projects\\HULD\\Paper_util/IROS_2024_LMC/'"
   ]
  },
  {
   "cell_type": "code",
   "execution_count": 2,
   "metadata": {},
   "outputs": [
    {
     "name": "stdout",
     "output_type": "stream",
     "text": [
      "[5.20087260e+01 1.87555610e+00 1.86423717e-04]\n"
     ]
    },
    {
     "data": {
      "application/vnd.plotly.v1+json": {
       "config": {
        "plotlyServerURL": "https://plot.ly"
       },
       "data": [
        {
         "marker": {
          "color": "blue",
          "size": 5
         },
         "mode": "markers+text",
         "text": [
          0,
          1,
          2,
          3,
          4,
          5,
          6,
          7,
          8,
          9,
          10,
          11,
          12,
          13,
          14,
          15,
          16,
          17,
          18,
          19,
          20,
          21,
          22,
          23,
          24,
          25
         ],
         "type": "scatter3d",
         "x": [
          -37.528421669646804,
          -19.425800942749035,
          26.6262344249631,
          -59.48005654347742,
          -21.948991452582963,
          0.6592002717002806,
          20.592867375317628,
          38.731653610684425,
          -66.60555173445947,
          -19.83318117040357,
          1.0972991371670402,
          22.351199088810844,
          40.55978246487372,
          -16.962222703580608,
          2.1468985492760453,
          22.54547676411621,
          38.73879232211848,
          -69.67701496963628,
          -15.790296606372836,
          2.9087945434201594,
          23.13460093047421,
          39.08668117294655,
          -1.7350723031669164,
          30.782333638657448,
          26.004363012744747,
          -26.00436301274477
         ],
         "y": [
          31.518381245395357,
          54.87082508083795,
          51.83857545163532,
          66.25741984311338,
          111.53044231636417,
          111.1750910873459,
          107.71218004641858,
          96.32614847226833,
          95.74928914930119,
          155.77138830220386,
          160.38585388206963,
          157.96136906421046,
          131.0349316888662,
          182.25263363419614,
          189.91096208035114,
          181.4243916643631,
          153.62791768936773,
          121.02444720588653,
          198.57843062913858,
          205.9262812318713,
          200.18788190734372,
          169.93349235139024,
          -190.26504982062383,
          -193.4022252583535,
          0.9377780500998716,
          -0.9377780500997742
         ],
         "z": [
          -9.4098110473911,
          8.9529803308769,
          7.4728449179170635,
          -20.778027417231275,
          -0.0010895002134085428,
          1.0959260117360343,
          -0.9881856356647077,
          -0.563413341429151,
          -25.29531197163269,
          -4.453402496562397,
          -6.295299050436838,
          -9.324203933319785,
          -6.199065690062207,
          -7.67860333537242,
          -9.838523962802098,
          -12.943633818926136,
          -10.324692944889179,
          -28.10472268587001,
          -8.219368705220678,
          -10.283333259796985,
          -17.063334886525094,
          -11.919775489292464,
          -49.56614361514909,
          2.9605607028617515,
          0.00009321185828976524,
          -0.00009321185829580333
         ]
        }
       ],
       "layout": {
        "height": 1024,
        "scene": {
         "aspectmode": "data",
         "aspectratio": {
          "x": 1,
          "y": 1,
          "z": 1
         },
         "camera": {
          "center": {
           "x": 0,
           "y": 0,
           "z": 0
          },
          "eye": {
           "x": -2,
           "y": -0.5,
           "z": 3
          },
          "up": {
           "x": 0,
           "y": 0,
           "z": 20
          }
         }
        },
        "template": {
         "data": {
          "bar": [
           {
            "error_x": {
             "color": "#2a3f5f"
            },
            "error_y": {
             "color": "#2a3f5f"
            },
            "marker": {
             "line": {
              "color": "#E5ECF6",
              "width": 0.5
             },
             "pattern": {
              "fillmode": "overlay",
              "size": 10,
              "solidity": 0.2
             }
            },
            "type": "bar"
           }
          ],
          "barpolar": [
           {
            "marker": {
             "line": {
              "color": "#E5ECF6",
              "width": 0.5
             },
             "pattern": {
              "fillmode": "overlay",
              "size": 10,
              "solidity": 0.2
             }
            },
            "type": "barpolar"
           }
          ],
          "carpet": [
           {
            "aaxis": {
             "endlinecolor": "#2a3f5f",
             "gridcolor": "white",
             "linecolor": "white",
             "minorgridcolor": "white",
             "startlinecolor": "#2a3f5f"
            },
            "baxis": {
             "endlinecolor": "#2a3f5f",
             "gridcolor": "white",
             "linecolor": "white",
             "minorgridcolor": "white",
             "startlinecolor": "#2a3f5f"
            },
            "type": "carpet"
           }
          ],
          "choropleth": [
           {
            "colorbar": {
             "outlinewidth": 0,
             "ticks": ""
            },
            "type": "choropleth"
           }
          ],
          "contour": [
           {
            "colorbar": {
             "outlinewidth": 0,
             "ticks": ""
            },
            "colorscale": [
             [
              0,
              "#0d0887"
             ],
             [
              0.1111111111111111,
              "#46039f"
             ],
             [
              0.2222222222222222,
              "#7201a8"
             ],
             [
              0.3333333333333333,
              "#9c179e"
             ],
             [
              0.4444444444444444,
              "#bd3786"
             ],
             [
              0.5555555555555556,
              "#d8576b"
             ],
             [
              0.6666666666666666,
              "#ed7953"
             ],
             [
              0.7777777777777778,
              "#fb9f3a"
             ],
             [
              0.8888888888888888,
              "#fdca26"
             ],
             [
              1,
              "#f0f921"
             ]
            ],
            "type": "contour"
           }
          ],
          "contourcarpet": [
           {
            "colorbar": {
             "outlinewidth": 0,
             "ticks": ""
            },
            "type": "contourcarpet"
           }
          ],
          "heatmap": [
           {
            "colorbar": {
             "outlinewidth": 0,
             "ticks": ""
            },
            "colorscale": [
             [
              0,
              "#0d0887"
             ],
             [
              0.1111111111111111,
              "#46039f"
             ],
             [
              0.2222222222222222,
              "#7201a8"
             ],
             [
              0.3333333333333333,
              "#9c179e"
             ],
             [
              0.4444444444444444,
              "#bd3786"
             ],
             [
              0.5555555555555556,
              "#d8576b"
             ],
             [
              0.6666666666666666,
              "#ed7953"
             ],
             [
              0.7777777777777778,
              "#fb9f3a"
             ],
             [
              0.8888888888888888,
              "#fdca26"
             ],
             [
              1,
              "#f0f921"
             ]
            ],
            "type": "heatmap"
           }
          ],
          "heatmapgl": [
           {
            "colorbar": {
             "outlinewidth": 0,
             "ticks": ""
            },
            "colorscale": [
             [
              0,
              "#0d0887"
             ],
             [
              0.1111111111111111,
              "#46039f"
             ],
             [
              0.2222222222222222,
              "#7201a8"
             ],
             [
              0.3333333333333333,
              "#9c179e"
             ],
             [
              0.4444444444444444,
              "#bd3786"
             ],
             [
              0.5555555555555556,
              "#d8576b"
             ],
             [
              0.6666666666666666,
              "#ed7953"
             ],
             [
              0.7777777777777778,
              "#fb9f3a"
             ],
             [
              0.8888888888888888,
              "#fdca26"
             ],
             [
              1,
              "#f0f921"
             ]
            ],
            "type": "heatmapgl"
           }
          ],
          "histogram": [
           {
            "marker": {
             "pattern": {
              "fillmode": "overlay",
              "size": 10,
              "solidity": 0.2
             }
            },
            "type": "histogram"
           }
          ],
          "histogram2d": [
           {
            "colorbar": {
             "outlinewidth": 0,
             "ticks": ""
            },
            "colorscale": [
             [
              0,
              "#0d0887"
             ],
             [
              0.1111111111111111,
              "#46039f"
             ],
             [
              0.2222222222222222,
              "#7201a8"
             ],
             [
              0.3333333333333333,
              "#9c179e"
             ],
             [
              0.4444444444444444,
              "#bd3786"
             ],
             [
              0.5555555555555556,
              "#d8576b"
             ],
             [
              0.6666666666666666,
              "#ed7953"
             ],
             [
              0.7777777777777778,
              "#fb9f3a"
             ],
             [
              0.8888888888888888,
              "#fdca26"
             ],
             [
              1,
              "#f0f921"
             ]
            ],
            "type": "histogram2d"
           }
          ],
          "histogram2dcontour": [
           {
            "colorbar": {
             "outlinewidth": 0,
             "ticks": ""
            },
            "colorscale": [
             [
              0,
              "#0d0887"
             ],
             [
              0.1111111111111111,
              "#46039f"
             ],
             [
              0.2222222222222222,
              "#7201a8"
             ],
             [
              0.3333333333333333,
              "#9c179e"
             ],
             [
              0.4444444444444444,
              "#bd3786"
             ],
             [
              0.5555555555555556,
              "#d8576b"
             ],
             [
              0.6666666666666666,
              "#ed7953"
             ],
             [
              0.7777777777777778,
              "#fb9f3a"
             ],
             [
              0.8888888888888888,
              "#fdca26"
             ],
             [
              1,
              "#f0f921"
             ]
            ],
            "type": "histogram2dcontour"
           }
          ],
          "mesh3d": [
           {
            "colorbar": {
             "outlinewidth": 0,
             "ticks": ""
            },
            "type": "mesh3d"
           }
          ],
          "parcoords": [
           {
            "line": {
             "colorbar": {
              "outlinewidth": 0,
              "ticks": ""
             }
            },
            "type": "parcoords"
           }
          ],
          "pie": [
           {
            "automargin": true,
            "type": "pie"
           }
          ],
          "scatter": [
           {
            "fillpattern": {
             "fillmode": "overlay",
             "size": 10,
             "solidity": 0.2
            },
            "type": "scatter"
           }
          ],
          "scatter3d": [
           {
            "line": {
             "colorbar": {
              "outlinewidth": 0,
              "ticks": ""
             }
            },
            "marker": {
             "colorbar": {
              "outlinewidth": 0,
              "ticks": ""
             }
            },
            "type": "scatter3d"
           }
          ],
          "scattercarpet": [
           {
            "marker": {
             "colorbar": {
              "outlinewidth": 0,
              "ticks": ""
             }
            },
            "type": "scattercarpet"
           }
          ],
          "scattergeo": [
           {
            "marker": {
             "colorbar": {
              "outlinewidth": 0,
              "ticks": ""
             }
            },
            "type": "scattergeo"
           }
          ],
          "scattergl": [
           {
            "marker": {
             "colorbar": {
              "outlinewidth": 0,
              "ticks": ""
             }
            },
            "type": "scattergl"
           }
          ],
          "scattermapbox": [
           {
            "marker": {
             "colorbar": {
              "outlinewidth": 0,
              "ticks": ""
             }
            },
            "type": "scattermapbox"
           }
          ],
          "scatterpolar": [
           {
            "marker": {
             "colorbar": {
              "outlinewidth": 0,
              "ticks": ""
             }
            },
            "type": "scatterpolar"
           }
          ],
          "scatterpolargl": [
           {
            "marker": {
             "colorbar": {
              "outlinewidth": 0,
              "ticks": ""
             }
            },
            "type": "scatterpolargl"
           }
          ],
          "scatterternary": [
           {
            "marker": {
             "colorbar": {
              "outlinewidth": 0,
              "ticks": ""
             }
            },
            "type": "scatterternary"
           }
          ],
          "surface": [
           {
            "colorbar": {
             "outlinewidth": 0,
             "ticks": ""
            },
            "colorscale": [
             [
              0,
              "#0d0887"
             ],
             [
              0.1111111111111111,
              "#46039f"
             ],
             [
              0.2222222222222222,
              "#7201a8"
             ],
             [
              0.3333333333333333,
              "#9c179e"
             ],
             [
              0.4444444444444444,
              "#bd3786"
             ],
             [
              0.5555555555555556,
              "#d8576b"
             ],
             [
              0.6666666666666666,
              "#ed7953"
             ],
             [
              0.7777777777777778,
              "#fb9f3a"
             ],
             [
              0.8888888888888888,
              "#fdca26"
             ],
             [
              1,
              "#f0f921"
             ]
            ],
            "type": "surface"
           }
          ],
          "table": [
           {
            "cells": {
             "fill": {
              "color": "#EBF0F8"
             },
             "line": {
              "color": "white"
             }
            },
            "header": {
             "fill": {
              "color": "#C8D4E3"
             },
             "line": {
              "color": "white"
             }
            },
            "type": "table"
           }
          ]
         },
         "layout": {
          "annotationdefaults": {
           "arrowcolor": "#2a3f5f",
           "arrowhead": 0,
           "arrowwidth": 1
          },
          "autotypenumbers": "strict",
          "coloraxis": {
           "colorbar": {
            "outlinewidth": 0,
            "ticks": ""
           }
          },
          "colorscale": {
           "diverging": [
            [
             0,
             "#8e0152"
            ],
            [
             0.1,
             "#c51b7d"
            ],
            [
             0.2,
             "#de77ae"
            ],
            [
             0.3,
             "#f1b6da"
            ],
            [
             0.4,
             "#fde0ef"
            ],
            [
             0.5,
             "#f7f7f7"
            ],
            [
             0.6,
             "#e6f5d0"
            ],
            [
             0.7,
             "#b8e186"
            ],
            [
             0.8,
             "#7fbc41"
            ],
            [
             0.9,
             "#4d9221"
            ],
            [
             1,
             "#276419"
            ]
           ],
           "sequential": [
            [
             0,
             "#0d0887"
            ],
            [
             0.1111111111111111,
             "#46039f"
            ],
            [
             0.2222222222222222,
             "#7201a8"
            ],
            [
             0.3333333333333333,
             "#9c179e"
            ],
            [
             0.4444444444444444,
             "#bd3786"
            ],
            [
             0.5555555555555556,
             "#d8576b"
            ],
            [
             0.6666666666666666,
             "#ed7953"
            ],
            [
             0.7777777777777778,
             "#fb9f3a"
            ],
            [
             0.8888888888888888,
             "#fdca26"
            ],
            [
             1,
             "#f0f921"
            ]
           ],
           "sequentialminus": [
            [
             0,
             "#0d0887"
            ],
            [
             0.1111111111111111,
             "#46039f"
            ],
            [
             0.2222222222222222,
             "#7201a8"
            ],
            [
             0.3333333333333333,
             "#9c179e"
            ],
            [
             0.4444444444444444,
             "#bd3786"
            ],
            [
             0.5555555555555556,
             "#d8576b"
            ],
            [
             0.6666666666666666,
             "#ed7953"
            ],
            [
             0.7777777777777778,
             "#fb9f3a"
            ],
            [
             0.8888888888888888,
             "#fdca26"
            ],
            [
             1,
             "#f0f921"
            ]
           ]
          },
          "colorway": [
           "#636efa",
           "#EF553B",
           "#00cc96",
           "#ab63fa",
           "#FFA15A",
           "#19d3f3",
           "#FF6692",
           "#B6E880",
           "#FF97FF",
           "#FECB52"
          ],
          "font": {
           "color": "#2a3f5f"
          },
          "geo": {
           "bgcolor": "white",
           "lakecolor": "white",
           "landcolor": "#E5ECF6",
           "showlakes": true,
           "showland": true,
           "subunitcolor": "white"
          },
          "hoverlabel": {
           "align": "left"
          },
          "hovermode": "closest",
          "mapbox": {
           "style": "light"
          },
          "paper_bgcolor": "white",
          "plot_bgcolor": "#E5ECF6",
          "polar": {
           "angularaxis": {
            "gridcolor": "white",
            "linecolor": "white",
            "ticks": ""
           },
           "bgcolor": "#E5ECF6",
           "radialaxis": {
            "gridcolor": "white",
            "linecolor": "white",
            "ticks": ""
           }
          },
          "scene": {
           "xaxis": {
            "backgroundcolor": "#E5ECF6",
            "gridcolor": "white",
            "gridwidth": 2,
            "linecolor": "white",
            "showbackground": true,
            "ticks": "",
            "zerolinecolor": "white"
           },
           "yaxis": {
            "backgroundcolor": "#E5ECF6",
            "gridcolor": "white",
            "gridwidth": 2,
            "linecolor": "white",
            "showbackground": true,
            "ticks": "",
            "zerolinecolor": "white"
           },
           "zaxis": {
            "backgroundcolor": "#E5ECF6",
            "gridcolor": "white",
            "gridwidth": 2,
            "linecolor": "white",
            "showbackground": true,
            "ticks": "",
            "zerolinecolor": "white"
           }
          },
          "shapedefaults": {
           "line": {
            "color": "#2a3f5f"
           }
          },
          "ternary": {
           "aaxis": {
            "gridcolor": "white",
            "linecolor": "white",
            "ticks": ""
           },
           "baxis": {
            "gridcolor": "white",
            "linecolor": "white",
            "ticks": ""
           },
           "bgcolor": "#E5ECF6",
           "caxis": {
            "gridcolor": "white",
            "linecolor": "white",
            "ticks": ""
           }
          },
          "title": {
           "x": 0.05
          },
          "xaxis": {
           "automargin": true,
           "gridcolor": "white",
           "linecolor": "white",
           "ticks": "",
           "title": {
            "standoff": 15
           },
           "zerolinecolor": "white",
           "zerolinewidth": 2
          },
          "yaxis": {
           "automargin": true,
           "gridcolor": "white",
           "linecolor": "white",
           "ticks": "",
           "title": {
            "standoff": 15
           },
           "zerolinecolor": "white",
           "zerolinewidth": 2
          }
         }
        },
        "width": 1024
       }
      }
     },
     "metadata": {},
     "output_type": "display_data"
    }
   ],
   "source": [
    "HandModel = getHandModel()\n",
    "q = np.zeros(20)\n",
    "# set the thumb in a flat position\n",
    "q[0] = 0.4\n",
    "q[1] = -0.6\n",
    "q[2] = 0.1\n",
    "state = setHandPose(HandModel, q)\n",
    "# HAND ROTATION\n",
    "# x = + flexion, - extension\n",
    "# y = + pronation, - supination\n",
    "# z = + ulna devation, - radial deviation\n",
    "pos_markers = getHandMarkers(HandModel, state, pos=np.array([0, 0, 0]), orient=np.array([0, 0, 0])*np.pi/180) \n",
    "\n",
    "print(pos_markers[24] - pos_markers[25])\n",
    "\n",
    "fig = go.Figure()\n",
    "plot_hand(None, pos_markers).show()"
   ]
  },
  {
   "cell_type": "code",
   "execution_count": 3,
   "metadata": {},
   "outputs": [
    {
     "data": {
      "application/vnd.plotly.v1+json": {
       "config": {
        "plotlyServerURL": "https://plot.ly"
       },
       "data": [
        {
         "marker": {
          "color": "red",
          "size": 5
         },
         "mode": "markers+text",
         "type": "scatter3d",
         "x": [
          0
         ],
         "y": [
          0
         ],
         "z": [
          0
         ]
        },
        {
         "line": {
          "color": "red",
          "width": 2
         },
         "mode": "lines",
         "type": "scatter3d",
         "x": [
          0,
          -6.123724356957946,
          null
         ],
         "y": [
          0,
          -6.123724356957945,
          null
         ],
         "z": [
          0,
          4.999999999999999,
          null
         ]
        },
        {
         "colorscale": [
          [
           0,
           "red"
          ],
          [
           1,
           "red"
          ]
         ],
         "showlegend": false,
         "showscale": false,
         "type": "cone",
         "u": [
          -1.8371173070873836
         ],
         "v": [
          -1.8371173070873834
         ],
         "w": [
          1.4999999999999998
         ],
         "x": [
          -6.001249869818787
         ],
         "y": [
          -6.001249869818786
         ],
         "z": [
          4.8999999999999995
         ]
        },
        {
         "marker": {
          "color": "red",
          "size": 5
         },
         "mode": "markers+text",
         "type": "scatter3d",
         "x": [
          0
         ],
         "y": [
          0
         ],
         "z": [
          0
         ]
        },
        {
         "line": {
          "color": "red",
          "width": 2
         },
         "mode": "lines",
         "type": "scatter3d",
         "x": [
          0,
          6.830127018922193,
          null
         ],
         "y": [
          0,
          -6.8301270189221945,
          null
         ],
         "z": [
          0,
          2.5881904510252074,
          null
         ]
        },
        {
         "colorscale": [
          [
           0,
           "red"
          ],
          [
           1,
           "red"
          ]
         ],
         "showlegend": false,
         "showscale": false,
         "type": "cone",
         "u": [
          2.0490381056766576
         ],
         "v": [
          -2.0490381056766584
         ],
         "w": [
          0.7764571353075622
         ],
         "x": [
          6.693524478543749
         ],
         "y": [
          -6.69352447854375
         ],
         "z": [
          2.5364266420047032
         ]
        },
        {
         "marker": {
          "color": "red",
          "size": 5
         },
         "mode": "markers+text",
         "type": "scatter3d",
         "x": [
          0
         ],
         "y": [
          0
         ],
         "z": [
          0
         ]
        },
        {
         "line": {
          "color": "red",
          "width": 2
         },
         "mode": "lines",
         "type": "scatter3d",
         "x": [
          0,
          6.123724356957946,
          null
         ],
         "y": [
          0,
          6.123724356957945,
          null
         ],
         "z": [
          0,
          4.999999999999999,
          null
         ]
        },
        {
         "colorscale": [
          [
           0,
           "red"
          ],
          [
           1,
           "red"
          ]
         ],
         "showlegend": false,
         "showscale": false,
         "type": "cone",
         "u": [
          1.8371173070873836
         ],
         "v": [
          1.8371173070873834
         ],
         "w": [
          1.4999999999999998
         ],
         "x": [
          6.001249869818787
         ],
         "y": [
          6.001249869818786
         ],
         "z": [
          4.8999999999999995
         ]
        },
        {
         "marker": {
          "color": "red",
          "size": 5
         },
         "mode": "markers+text",
         "type": "scatter3d",
         "x": [
          0
         ],
         "y": [
          0
         ],
         "z": [
          0
         ]
        },
        {
         "line": {
          "color": "red",
          "width": 2
         },
         "mode": "lines",
         "type": "scatter3d",
         "x": [
          0,
          -6.830127018922193,
          null
         ],
         "y": [
          0,
          6.8301270189221945,
          null
         ],
         "z": [
          0,
          2.5881904510252074,
          null
         ]
        },
        {
         "colorscale": [
          [
           0,
           "red"
          ],
          [
           1,
           "red"
          ]
         ],
         "showlegend": false,
         "showscale": false,
         "type": "cone",
         "u": [
          -2.0490381056766576
         ],
         "v": [
          2.0490381056766584
         ],
         "w": [
          0.7764571353075622
         ],
         "x": [
          -6.693524478543749
         ],
         "y": [
          6.69352447854375
         ],
         "z": [
          2.5364266420047032
         ]
        },
        {
         "marker": {
          "color": "red",
          "size": 5
         },
         "mode": "markers+text",
         "text": "0d",
         "type": "scatter3d",
         "x": [
          -3.061862178478973
         ],
         "y": [
          -3.0618621784789726
         ],
         "z": [
          2.4999999999999996
         ]
        },
        {
         "marker": {
          "color": "red",
          "size": 5
         },
         "mode": "markers+text",
         "text": "1d",
         "type": "scatter3d",
         "x": [
          3.4150635094610964
         ],
         "y": [
          -3.4150635094610973
         ],
         "z": [
          1.2940952255126037
         ]
        },
        {
         "marker": {
          "color": "red",
          "size": 5
         },
         "mode": "markers+text",
         "text": "2d",
         "type": "scatter3d",
         "x": [
          3.061862178478973
         ],
         "y": [
          3.0618621784789726
         ],
         "z": [
          2.4999999999999996
         ]
        },
        {
         "marker": {
          "color": "red",
          "size": 5
         },
         "mode": "markers+text",
         "text": "3d",
         "type": "scatter3d",
         "x": [
          -3.4150635094610964
         ],
         "y": [
          3.4150635094610973
         ],
         "z": [
          1.2940952255126037
         ]
        },
        {
         "marker": {
          "color": "red",
          "size": 5
         },
         "mode": "markers+text",
         "type": "scatter3d",
         "x": [
          0
         ],
         "y": [
          0
         ],
         "z": [
          0
         ]
        },
        {
         "line": {
          "color": "red",
          "width": 2
         },
         "mode": "lines",
         "type": "scatter3d",
         "x": [
          0,
          7.0710678118654755,
          null
         ],
         "y": [
          0,
          7.071067811865475,
          null
         ],
         "z": [
          0,
          0,
          null
         ]
        },
        {
         "colorscale": [
          [
           0,
           "red"
          ],
          [
           1,
           "red"
          ]
         ],
         "showlegend": false,
         "showscale": false,
         "type": "cone",
         "u": [
          2.1213203435596424
         ],
         "v": [
          2.1213203435596424
         ],
         "w": [
          0
         ],
         "x": [
          6.929646455628166
         ],
         "y": [
          6.929646455628165
         ],
         "z": [
          0
         ]
        },
        {
         "marker": {
          "color": "red",
          "size": 5
         },
         "mode": "markers+text",
         "text": "0",
         "type": "scatter3d",
         "x": [
          0
         ],
         "y": [
          0
         ],
         "z": [
          0
         ]
        },
        {
         "marker": {
          "color": "green",
          "size": 5
         },
         "mode": "markers+text",
         "type": "scatter3d",
         "x": [
          50
         ],
         "y": [
          0
         ],
         "z": [
          0
         ]
        },
        {
         "line": {
          "color": "green",
          "width": 2
         },
         "mode": "lines",
         "type": "scatter3d",
         "x": [
          50,
          54.545194776720436,
          null
         ],
         "y": [
          0,
          -4.545194776720437,
          null
         ],
         "z": [
          0,
          7.660444431189781,
          null
         ]
        },
        {
         "colorscale": [
          [
           0,
           "green"
          ],
          [
           1,
           "green"
          ]
         ],
         "showlegend": false,
         "showscale": false,
         "type": "cone",
         "u": [
          1.3635584330161308
         ],
         "v": [
          -1.363558433016131
         ],
         "w": [
          2.298133329356934
         ],
         "x": [
          54.454290881186026
         ],
         "y": [
          -4.454290881186028
         ],
         "z": [
          7.507235542565985
         ]
        },
        {
         "marker": {
          "color": "green",
          "size": 5
         },
         "mode": "markers+text",
         "type": "scatter3d",
         "x": [
          50
         ],
         "y": [
          0
         ],
         "z": [
          0
         ]
        },
        {
         "line": {
          "color": "green",
          "width": 2
         },
         "mode": "lines",
         "type": "scatter3d",
         "x": [
          50,
          56.20418671360625,
          null
         ],
         "y": [
          0,
          7.456067324238141,
          null
         ],
         "z": [
          0,
          2.432103468016939,
          null
         ]
        },
        {
         "colorscale": [
          [
           0,
           "green"
          ],
          [
           1,
           "green"
          ]
         ],
         "showlegend": false,
         "showscale": false,
         "type": "cone",
         "u": [
          1.8612560140818744
         ],
         "v": [
          2.236820197271442
         ],
         "w": [
          0.7296310404050818
         ],
         "x": [
          56.08010297933412
         ],
         "y": [
          7.3069459777533785
         ],
         "z": [
          2.3834613986566002
         ]
        },
        {
         "marker": {
          "color": "green",
          "size": 5
         },
         "mode": "markers+text",
         "type": "scatter3d",
         "x": [
          50
         ],
         "y": [
          0
         ],
         "z": [
          0
         ]
        },
        {
         "line": {
          "color": "green",
          "width": 2
         },
         "mode": "lines",
         "type": "scatter3d",
         "x": [
          50,
          43.03635759679981,
          null
         ],
         "y": [
          0,
          6.963642403200189,
          null
         ],
         "z": [
          0,
          1.7364817766693021,
          null
         ]
        },
        {
         "colorscale": [
          [
           0,
           "green"
          ],
          [
           1,
           "green"
          ]
         ],
         "showlegend": false,
         "showscale": false,
         "type": "cone",
         "u": [
          -2.089092720960057
         ],
         "v": [
          2.0890927209600565
         ],
         "w": [
          0.5209445330007906
         ],
         "x": [
          43.17563044486381
         ],
         "y": [
          6.824369555136185
         ],
         "z": [
          1.701752141135916
         ]
        },
        {
         "marker": {
          "color": "green",
          "size": 5
         },
         "mode": "markers+text",
         "type": "scatter3d",
         "x": [
          50
         ],
         "y": [
          0
         ],
         "z": [
          0
         ]
        },
        {
         "line": {
          "color": "green",
          "width": 2
         },
         "mode": "lines",
         "type": "scatter3d",
         "x": [
          50,
          42.54393267576186,
          null
         ],
         "y": [
          0,
          -6.204186713606247,
          null
         ],
         "z": [
          0,
          2.43210346801694,
          null
         ]
        },
        {
         "colorscale": [
          [
           0,
           "green"
          ],
          [
           1,
           "green"
          ]
         ],
         "showlegend": false,
         "showscale": false,
         "type": "cone",
         "u": [
          -2.236820197271442
         ],
         "v": [
          -1.861256014081874
         ],
         "w": [
          0.729631040405082
         ],
         "x": [
          42.69305402224662
         ],
         "y": [
          -6.0801029793341215
         ],
         "z": [
          2.383461398656601
         ]
        },
        {
         "marker": {
          "color": "green",
          "size": 5
         },
         "mode": "markers+text",
         "text": "0d",
         "type": "scatter3d",
         "x": [
          52.27259738836022
         ],
         "y": [
          -2.2725973883602184
         ],
         "z": [
          3.8302222155948904
         ]
        },
        {
         "marker": {
          "color": "green",
          "size": 5
         },
         "mode": "markers+text",
         "text": "1d",
         "type": "scatter3d",
         "x": [
          53.102093356803124
         ],
         "y": [
          3.7280336621190706
         ],
         "z": [
          1.2160517340084696
         ]
        },
        {
         "marker": {
          "color": "green",
          "size": 5
         },
         "mode": "markers+text",
         "text": "2d",
         "type": "scatter3d",
         "x": [
          46.5181787983999
         ],
         "y": [
          3.4818212016000945
         ],
         "z": [
          0.8682408883346511
         ]
        },
        {
         "marker": {
          "color": "green",
          "size": 5
         },
         "mode": "markers+text",
         "text": "3d",
         "type": "scatter3d",
         "x": [
          46.27196633788093
         ],
         "y": [
          -3.1020933568031235
         ],
         "z": [
          1.21605173400847
         ]
        },
        {
         "marker": {
          "color": "green",
          "size": 5
         },
         "mode": "markers+text",
         "type": "scatter3d",
         "x": [
          50
         ],
         "y": [
          0
         ],
         "z": [
          0
         ]
        },
        {
         "line": {
          "color": "green",
          "width": 2
         },
         "mode": "lines",
         "type": "scatter3d",
         "x": [
          50,
          43.35536975611325,
          null
         ],
         "y": [
          0,
          6.644630243886747,
          null
         ],
         "z": [
          0,
          -3.4202014332566884,
          null
         ]
        },
        {
         "colorscale": [
          [
           0,
           "green"
          ],
          [
           1,
           "green"
          ]
         ],
         "showlegend": false,
         "showscale": false,
         "type": "cone",
         "u": [
          -1.9933890731660255
         ],
         "v": [
          1.993389073166024
         ],
         "w": [
          -1.0260604299770064
         ],
         "x": [
          43.48826236099099
         ],
         "y": [
          6.511737639009011
         ],
         "z": [
          -3.3517974045915544
         ]
        },
        {
         "marker": {
          "color": "green",
          "size": 5
         },
         "mode": "markers+text",
         "text": "1",
         "type": "scatter3d",
         "x": [
          50
         ],
         "y": [
          0
         ],
         "z": [
          0
         ]
        },
        {
         "marker": {
          "color": "blue",
          "size": 5
         },
         "mode": "markers+text",
         "type": "scatter3d",
         "x": [
          50
         ],
         "y": [
          50
         ],
         "z": [
          0
         ]
        },
        {
         "line": {
          "color": "blue",
          "width": 2
         },
         "mode": "lines",
         "type": "scatter3d",
         "x": [
          50,
          43.03635759679981,
          null
         ],
         "y": [
          50,
          43.03635759679981,
          null
         ],
         "z": [
          0,
          1.7364817766693021,
          null
         ]
        },
        {
         "colorscale": [
          [
           0,
           "blue"
          ],
          [
           1,
           "blue"
          ]
         ],
         "showlegend": false,
         "showscale": false,
         "type": "cone",
         "u": [
          -2.089092720960057
         ],
         "v": [
          -2.089092720960057
         ],
         "w": [
          0.5209445330007906
         ],
         "x": [
          43.17563044486381
         ],
         "y": [
          43.17563044486381
         ],
         "z": [
          1.701752141135916
         ]
        },
        {
         "marker": {
          "color": "blue",
          "size": 5
         },
         "mode": "markers+text",
         "type": "scatter3d",
         "x": [
          50
         ],
         "y": [
          50
         ],
         "z": [
          0
         ]
        },
        {
         "line": {
          "color": "blue",
          "width": 2
         },
         "mode": "lines",
         "type": "scatter3d",
         "x": [
          50,
          56.20418671360625,
          null
         ],
         "y": [
          50,
          42.54393267576186,
          null
         ],
         "z": [
          0,
          2.432103468016939,
          null
         ]
        },
        {
         "colorscale": [
          [
           0,
           "blue"
          ],
          [
           1,
           "blue"
          ]
         ],
         "showlegend": false,
         "showscale": false,
         "type": "cone",
         "u": [
          1.8612560140818744
         ],
         "v": [
          -2.236820197271442
         ],
         "w": [
          0.7296310404050818
         ],
         "x": [
          56.08010297933412
         ],
         "y": [
          42.69305402224662
         ],
         "z": [
          2.3834613986566002
         ]
        },
        {
         "marker": {
          "color": "blue",
          "size": 5
         },
         "mode": "markers+text",
         "type": "scatter3d",
         "x": [
          50
         ],
         "y": [
          50
         ],
         "z": [
          0
         ]
        },
        {
         "line": {
          "color": "blue",
          "width": 2
         },
         "mode": "lines",
         "type": "scatter3d",
         "x": [
          50,
          54.545194776720436,
          null
         ],
         "y": [
          50,
          54.545194776720436,
          null
         ],
         "z": [
          0,
          7.660444431189781,
          null
         ]
        },
        {
         "colorscale": [
          [
           0,
           "blue"
          ],
          [
           1,
           "blue"
          ]
         ],
         "showlegend": false,
         "showscale": false,
         "type": "cone",
         "u": [
          1.3635584330161308
         ],
         "v": [
          1.3635584330161308
         ],
         "w": [
          2.298133329356934
         ],
         "x": [
          54.454290881186026
         ],
         "y": [
          54.454290881186026
         ],
         "z": [
          7.507235542565985
         ]
        },
        {
         "marker": {
          "color": "blue",
          "size": 5
         },
         "mode": "markers+text",
         "type": "scatter3d",
         "x": [
          50
         ],
         "y": [
          50
         ],
         "z": [
          0
         ]
        },
        {
         "line": {
          "color": "blue",
          "width": 2
         },
         "mode": "lines",
         "type": "scatter3d",
         "x": [
          50,
          42.54393267576186,
          null
         ],
         "y": [
          50,
          56.20418671360625,
          null
         ],
         "z": [
          0,
          2.43210346801694,
          null
         ]
        },
        {
         "colorscale": [
          [
           0,
           "blue"
          ],
          [
           1,
           "blue"
          ]
         ],
         "showlegend": false,
         "showscale": false,
         "type": "cone",
         "u": [
          -2.236820197271442
         ],
         "v": [
          1.8612560140818744
         ],
         "w": [
          0.729631040405082
         ],
         "x": [
          42.69305402224662
         ],
         "y": [
          56.08010297933412
         ],
         "z": [
          2.383461398656601
         ]
        },
        {
         "marker": {
          "color": "blue",
          "size": 5
         },
         "mode": "markers+text",
         "text": "0d",
         "type": "scatter3d",
         "x": [
          46.5181787983999
         ],
         "y": [
          46.51817879839991
         ],
         "z": [
          0.8682408883346511
         ]
        },
        {
         "marker": {
          "color": "blue",
          "size": 5
         },
         "mode": "markers+text",
         "text": "1d",
         "type": "scatter3d",
         "x": [
          53.102093356803124
         ],
         "y": [
          46.271966337880926
         ],
         "z": [
          1.2160517340084696
         ]
        },
        {
         "marker": {
          "color": "blue",
          "size": 5
         },
         "mode": "markers+text",
         "text": "2d",
         "type": "scatter3d",
         "x": [
          52.27259738836022
         ],
         "y": [
          52.27259738836022
         ],
         "z": [
          3.8302222155948904
         ]
        },
        {
         "marker": {
          "color": "blue",
          "size": 5
         },
         "mode": "markers+text",
         "text": "3d",
         "type": "scatter3d",
         "x": [
          46.27196633788093
         ],
         "y": [
          53.102093356803124
         ],
         "z": [
          1.21605173400847
         ]
        },
        {
         "marker": {
          "color": "blue",
          "size": 5
         },
         "mode": "markers+text",
         "type": "scatter3d",
         "x": [
          50
         ],
         "y": [
          50
         ],
         "z": [
          0
         ]
        },
        {
         "line": {
          "color": "blue",
          "width": 2
         },
         "mode": "lines",
         "type": "scatter3d",
         "x": [
          50,
          56.64463024388675,
          null
         ],
         "y": [
          50,
          56.644630243886745,
          null
         ],
         "z": [
          0,
          3.4202014332566884,
          null
         ]
        },
        {
         "colorscale": [
          [
           0,
           "blue"
          ],
          [
           1,
           "blue"
          ]
         ],
         "showlegend": false,
         "showscale": false,
         "type": "cone",
         "u": [
          1.9933890731660255
         ],
         "v": [
          1.9933890731660233
         ],
         "w": [
          1.0260604299770064
         ],
         "x": [
          56.51173763900901
         ],
         "y": [
          56.51173763900901
         ],
         "z": [
          3.3517974045915544
         ]
        },
        {
         "marker": {
          "color": "blue",
          "size": 5
         },
         "mode": "markers+text",
         "text": "2",
         "type": "scatter3d",
         "x": [
          50
         ],
         "y": [
          50
         ],
         "z": [
          0
         ]
        },
        {
         "marker": {
          "color": "orange",
          "size": 5
         },
         "mode": "markers+text",
         "type": "scatter3d",
         "x": [
          0
         ],
         "y": [
          50
         ],
         "z": [
          0
         ]
        },
        {
         "line": {
          "color": "orange",
          "width": 2
         },
         "mode": "lines",
         "type": "scatter3d",
         "x": [
          0,
          6.96364240320019,
          null
         ],
         "y": [
          50,
          43.03635759679981,
          null
         ],
         "z": [
          0,
          1.7364817766693021,
          null
         ]
        },
        {
         "colorscale": [
          [
           0,
           "orange"
          ],
          [
           1,
           "orange"
          ]
         ],
         "showlegend": false,
         "showscale": false,
         "type": "cone",
         "u": [
          2.089092720960057
         ],
         "v": [
          -2.089092720960057
         ],
         "w": [
          0.5209445330007906
         ],
         "x": [
          6.824369555136186
         ],
         "y": [
          43.17563044486381
         ],
         "z": [
          1.701752141135916
         ]
        },
        {
         "marker": {
          "color": "orange",
          "size": 5
         },
         "mode": "markers+text",
         "type": "scatter3d",
         "x": [
          0
         ],
         "y": [
          50
         ],
         "z": [
          0
         ]
        },
        {
         "line": {
          "color": "orange",
          "width": 2
         },
         "mode": "lines",
         "type": "scatter3d",
         "x": [
          0,
          7.4560673242381394,
          null
         ],
         "y": [
          50,
          56.20418671360625,
          null
         ],
         "z": [
          0,
          2.43210346801694,
          null
         ]
        },
        {
         "colorscale": [
          [
           0,
           "orange"
          ],
          [
           1,
           "orange"
          ]
         ],
         "showlegend": false,
         "showscale": false,
         "type": "cone",
         "u": [
          2.2368201972714417
         ],
         "v": [
          1.8612560140818744
         ],
         "w": [
          0.729631040405082
         ],
         "x": [
          7.306945977753377
         ],
         "y": [
          56.08010297933412
         ],
         "z": [
          2.383461398656601
         ]
        },
        {
         "marker": {
          "color": "orange",
          "size": 5
         },
         "mode": "markers+text",
         "type": "scatter3d",
         "x": [
          0
         ],
         "y": [
          50
         ],
         "z": [
          0
         ]
        },
        {
         "line": {
          "color": "orange",
          "width": 2
         },
         "mode": "lines",
         "type": "scatter3d",
         "x": [
          0,
          -4.545194776720438,
          null
         ],
         "y": [
          50,
          54.545194776720436,
          null
         ],
         "z": [
          0,
          7.660444431189781,
          null
         ]
        },
        {
         "colorscale": [
          [
           0,
           "orange"
          ],
          [
           1,
           "orange"
          ]
         ],
         "showlegend": false,
         "showscale": false,
         "type": "cone",
         "u": [
          -1.3635584330161312
         ],
         "v": [
          1.3635584330161308
         ],
         "w": [
          2.298133329356934
         ],
         "x": [
          -4.4542908811860285
         ],
         "y": [
          54.454290881186026
         ],
         "z": [
          7.507235542565985
         ]
        },
        {
         "marker": {
          "color": "orange",
          "size": 5
         },
         "mode": "markers+text",
         "type": "scatter3d",
         "x": [
          0
         ],
         "y": [
          50
         ],
         "z": [
          0
         ]
        },
        {
         "line": {
          "color": "orange",
          "width": 2
         },
         "mode": "lines",
         "type": "scatter3d",
         "x": [
          0,
          -6.204186713606244,
          null
         ],
         "y": [
          50,
          42.54393267576186,
          null
         ],
         "z": [
          0,
          2.432103468016939,
          null
         ]
        },
        {
         "colorscale": [
          [
           0,
           "orange"
          ],
          [
           1,
           "orange"
          ]
         ],
         "showlegend": false,
         "showscale": false,
         "type": "cone",
         "u": [
          -1.8612560140818732
         ],
         "v": [
          -2.236820197271442
         ],
         "w": [
          0.7296310404050818
         ],
         "x": [
          -6.08010297933412
         ],
         "y": [
          42.69305402224662
         ],
         "z": [
          2.3834613986566002
         ]
        },
        {
         "marker": {
          "color": "orange",
          "size": 5
         },
         "mode": "markers+text",
         "text": "0d",
         "type": "scatter3d",
         "x": [
          3.481821201600095
         ],
         "y": [
          46.51817879839991
         ],
         "z": [
          0.8682408883346511
         ]
        },
        {
         "marker": {
          "color": "orange",
          "size": 5
         },
         "mode": "markers+text",
         "text": "1d",
         "type": "scatter3d",
         "x": [
          3.7280336621190697
         ],
         "y": [
          53.102093356803124
         ],
         "z": [
          1.21605173400847
         ]
        },
        {
         "marker": {
          "color": "orange",
          "size": 5
         },
         "mode": "markers+text",
         "text": "2d",
         "type": "scatter3d",
         "x": [
          -2.272597388360219
         ],
         "y": [
          52.27259738836022
         ],
         "z": [
          3.8302222155948904
         ]
        },
        {
         "marker": {
          "color": "orange",
          "size": 5
         },
         "mode": "markers+text",
         "text": "3d",
         "type": "scatter3d",
         "x": [
          -3.102093356803122
         ],
         "y": [
          46.271966337880926
         ],
         "z": [
          1.2160517340084696
         ]
        },
        {
         "marker": {
          "color": "orange",
          "size": 5
         },
         "mode": "markers+text",
         "type": "scatter3d",
         "x": [
          0
         ],
         "y": [
          50
         ],
         "z": [
          0
         ]
        },
        {
         "line": {
          "color": "orange",
          "width": 2
         },
         "mode": "lines",
         "type": "scatter3d",
         "x": [
          0,
          -6.644630243886748,
          null
         ],
         "y": [
          50,
          56.644630243886745,
          null
         ],
         "z": [
          0,
          3.4202014332566884,
          null
         ]
        },
        {
         "colorscale": [
          [
           0,
           "orange"
          ],
          [
           1,
           "orange"
          ]
         ],
         "showlegend": false,
         "showscale": false,
         "type": "cone",
         "u": [
          -1.9933890731660244
         ],
         "v": [
          1.9933890731660233
         ],
         "w": [
          1.0260604299770064
         ],
         "x": [
          -6.511737639009013
         ],
         "y": [
          56.51173763900901
         ],
         "z": [
          3.3517974045915544
         ]
        },
        {
         "marker": {
          "color": "orange",
          "size": 5
         },
         "mode": "markers+text",
         "text": "3",
         "type": "scatter3d",
         "x": [
          0
         ],
         "y": [
          50
         ],
         "z": [
          0
         ]
        }
       ],
       "layout": {
        "height": 1024,
        "scene": {
         "aspectmode": "data",
         "aspectratio": {
          "x": 1,
          "y": 1,
          "z": 1
         },
         "camera": {
          "center": {
           "x": 0,
           "y": 0,
           "z": 0
          },
          "eye": {
           "x": 0,
           "y": -1,
           "z": 3
          },
          "up": {
           "x": 0,
           "y": -30,
           "z": 40
          }
         }
        },
        "template": {
         "data": {
          "bar": [
           {
            "error_x": {
             "color": "#2a3f5f"
            },
            "error_y": {
             "color": "#2a3f5f"
            },
            "marker": {
             "line": {
              "color": "#E5ECF6",
              "width": 0.5
             },
             "pattern": {
              "fillmode": "overlay",
              "size": 10,
              "solidity": 0.2
             }
            },
            "type": "bar"
           }
          ],
          "barpolar": [
           {
            "marker": {
             "line": {
              "color": "#E5ECF6",
              "width": 0.5
             },
             "pattern": {
              "fillmode": "overlay",
              "size": 10,
              "solidity": 0.2
             }
            },
            "type": "barpolar"
           }
          ],
          "carpet": [
           {
            "aaxis": {
             "endlinecolor": "#2a3f5f",
             "gridcolor": "white",
             "linecolor": "white",
             "minorgridcolor": "white",
             "startlinecolor": "#2a3f5f"
            },
            "baxis": {
             "endlinecolor": "#2a3f5f",
             "gridcolor": "white",
             "linecolor": "white",
             "minorgridcolor": "white",
             "startlinecolor": "#2a3f5f"
            },
            "type": "carpet"
           }
          ],
          "choropleth": [
           {
            "colorbar": {
             "outlinewidth": 0,
             "ticks": ""
            },
            "type": "choropleth"
           }
          ],
          "contour": [
           {
            "colorbar": {
             "outlinewidth": 0,
             "ticks": ""
            },
            "colorscale": [
             [
              0,
              "#0d0887"
             ],
             [
              0.1111111111111111,
              "#46039f"
             ],
             [
              0.2222222222222222,
              "#7201a8"
             ],
             [
              0.3333333333333333,
              "#9c179e"
             ],
             [
              0.4444444444444444,
              "#bd3786"
             ],
             [
              0.5555555555555556,
              "#d8576b"
             ],
             [
              0.6666666666666666,
              "#ed7953"
             ],
             [
              0.7777777777777778,
              "#fb9f3a"
             ],
             [
              0.8888888888888888,
              "#fdca26"
             ],
             [
              1,
              "#f0f921"
             ]
            ],
            "type": "contour"
           }
          ],
          "contourcarpet": [
           {
            "colorbar": {
             "outlinewidth": 0,
             "ticks": ""
            },
            "type": "contourcarpet"
           }
          ],
          "heatmap": [
           {
            "colorbar": {
             "outlinewidth": 0,
             "ticks": ""
            },
            "colorscale": [
             [
              0,
              "#0d0887"
             ],
             [
              0.1111111111111111,
              "#46039f"
             ],
             [
              0.2222222222222222,
              "#7201a8"
             ],
             [
              0.3333333333333333,
              "#9c179e"
             ],
             [
              0.4444444444444444,
              "#bd3786"
             ],
             [
              0.5555555555555556,
              "#d8576b"
             ],
             [
              0.6666666666666666,
              "#ed7953"
             ],
             [
              0.7777777777777778,
              "#fb9f3a"
             ],
             [
              0.8888888888888888,
              "#fdca26"
             ],
             [
              1,
              "#f0f921"
             ]
            ],
            "type": "heatmap"
           }
          ],
          "heatmapgl": [
           {
            "colorbar": {
             "outlinewidth": 0,
             "ticks": ""
            },
            "colorscale": [
             [
              0,
              "#0d0887"
             ],
             [
              0.1111111111111111,
              "#46039f"
             ],
             [
              0.2222222222222222,
              "#7201a8"
             ],
             [
              0.3333333333333333,
              "#9c179e"
             ],
             [
              0.4444444444444444,
              "#bd3786"
             ],
             [
              0.5555555555555556,
              "#d8576b"
             ],
             [
              0.6666666666666666,
              "#ed7953"
             ],
             [
              0.7777777777777778,
              "#fb9f3a"
             ],
             [
              0.8888888888888888,
              "#fdca26"
             ],
             [
              1,
              "#f0f921"
             ]
            ],
            "type": "heatmapgl"
           }
          ],
          "histogram": [
           {
            "marker": {
             "pattern": {
              "fillmode": "overlay",
              "size": 10,
              "solidity": 0.2
             }
            },
            "type": "histogram"
           }
          ],
          "histogram2d": [
           {
            "colorbar": {
             "outlinewidth": 0,
             "ticks": ""
            },
            "colorscale": [
             [
              0,
              "#0d0887"
             ],
             [
              0.1111111111111111,
              "#46039f"
             ],
             [
              0.2222222222222222,
              "#7201a8"
             ],
             [
              0.3333333333333333,
              "#9c179e"
             ],
             [
              0.4444444444444444,
              "#bd3786"
             ],
             [
              0.5555555555555556,
              "#d8576b"
             ],
             [
              0.6666666666666666,
              "#ed7953"
             ],
             [
              0.7777777777777778,
              "#fb9f3a"
             ],
             [
              0.8888888888888888,
              "#fdca26"
             ],
             [
              1,
              "#f0f921"
             ]
            ],
            "type": "histogram2d"
           }
          ],
          "histogram2dcontour": [
           {
            "colorbar": {
             "outlinewidth": 0,
             "ticks": ""
            },
            "colorscale": [
             [
              0,
              "#0d0887"
             ],
             [
              0.1111111111111111,
              "#46039f"
             ],
             [
              0.2222222222222222,
              "#7201a8"
             ],
             [
              0.3333333333333333,
              "#9c179e"
             ],
             [
              0.4444444444444444,
              "#bd3786"
             ],
             [
              0.5555555555555556,
              "#d8576b"
             ],
             [
              0.6666666666666666,
              "#ed7953"
             ],
             [
              0.7777777777777778,
              "#fb9f3a"
             ],
             [
              0.8888888888888888,
              "#fdca26"
             ],
             [
              1,
              "#f0f921"
             ]
            ],
            "type": "histogram2dcontour"
           }
          ],
          "mesh3d": [
           {
            "colorbar": {
             "outlinewidth": 0,
             "ticks": ""
            },
            "type": "mesh3d"
           }
          ],
          "parcoords": [
           {
            "line": {
             "colorbar": {
              "outlinewidth": 0,
              "ticks": ""
             }
            },
            "type": "parcoords"
           }
          ],
          "pie": [
           {
            "automargin": true,
            "type": "pie"
           }
          ],
          "scatter": [
           {
            "fillpattern": {
             "fillmode": "overlay",
             "size": 10,
             "solidity": 0.2
            },
            "type": "scatter"
           }
          ],
          "scatter3d": [
           {
            "line": {
             "colorbar": {
              "outlinewidth": 0,
              "ticks": ""
             }
            },
            "marker": {
             "colorbar": {
              "outlinewidth": 0,
              "ticks": ""
             }
            },
            "type": "scatter3d"
           }
          ],
          "scattercarpet": [
           {
            "marker": {
             "colorbar": {
              "outlinewidth": 0,
              "ticks": ""
             }
            },
            "type": "scattercarpet"
           }
          ],
          "scattergeo": [
           {
            "marker": {
             "colorbar": {
              "outlinewidth": 0,
              "ticks": ""
             }
            },
            "type": "scattergeo"
           }
          ],
          "scattergl": [
           {
            "marker": {
             "colorbar": {
              "outlinewidth": 0,
              "ticks": ""
             }
            },
            "type": "scattergl"
           }
          ],
          "scattermapbox": [
           {
            "marker": {
             "colorbar": {
              "outlinewidth": 0,
              "ticks": ""
             }
            },
            "type": "scattermapbox"
           }
          ],
          "scatterpolar": [
           {
            "marker": {
             "colorbar": {
              "outlinewidth": 0,
              "ticks": ""
             }
            },
            "type": "scatterpolar"
           }
          ],
          "scatterpolargl": [
           {
            "marker": {
             "colorbar": {
              "outlinewidth": 0,
              "ticks": ""
             }
            },
            "type": "scatterpolargl"
           }
          ],
          "scatterternary": [
           {
            "marker": {
             "colorbar": {
              "outlinewidth": 0,
              "ticks": ""
             }
            },
            "type": "scatterternary"
           }
          ],
          "surface": [
           {
            "colorbar": {
             "outlinewidth": 0,
             "ticks": ""
            },
            "colorscale": [
             [
              0,
              "#0d0887"
             ],
             [
              0.1111111111111111,
              "#46039f"
             ],
             [
              0.2222222222222222,
              "#7201a8"
             ],
             [
              0.3333333333333333,
              "#9c179e"
             ],
             [
              0.4444444444444444,
              "#bd3786"
             ],
             [
              0.5555555555555556,
              "#d8576b"
             ],
             [
              0.6666666666666666,
              "#ed7953"
             ],
             [
              0.7777777777777778,
              "#fb9f3a"
             ],
             [
              0.8888888888888888,
              "#fdca26"
             ],
             [
              1,
              "#f0f921"
             ]
            ],
            "type": "surface"
           }
          ],
          "table": [
           {
            "cells": {
             "fill": {
              "color": "#EBF0F8"
             },
             "line": {
              "color": "white"
             }
            },
            "header": {
             "fill": {
              "color": "#C8D4E3"
             },
             "line": {
              "color": "white"
             }
            },
            "type": "table"
           }
          ]
         },
         "layout": {
          "annotationdefaults": {
           "arrowcolor": "#2a3f5f",
           "arrowhead": 0,
           "arrowwidth": 1
          },
          "autotypenumbers": "strict",
          "coloraxis": {
           "colorbar": {
            "outlinewidth": 0,
            "ticks": ""
           }
          },
          "colorscale": {
           "diverging": [
            [
             0,
             "#8e0152"
            ],
            [
             0.1,
             "#c51b7d"
            ],
            [
             0.2,
             "#de77ae"
            ],
            [
             0.3,
             "#f1b6da"
            ],
            [
             0.4,
             "#fde0ef"
            ],
            [
             0.5,
             "#f7f7f7"
            ],
            [
             0.6,
             "#e6f5d0"
            ],
            [
             0.7,
             "#b8e186"
            ],
            [
             0.8,
             "#7fbc41"
            ],
            [
             0.9,
             "#4d9221"
            ],
            [
             1,
             "#276419"
            ]
           ],
           "sequential": [
            [
             0,
             "#0d0887"
            ],
            [
             0.1111111111111111,
             "#46039f"
            ],
            [
             0.2222222222222222,
             "#7201a8"
            ],
            [
             0.3333333333333333,
             "#9c179e"
            ],
            [
             0.4444444444444444,
             "#bd3786"
            ],
            [
             0.5555555555555556,
             "#d8576b"
            ],
            [
             0.6666666666666666,
             "#ed7953"
            ],
            [
             0.7777777777777778,
             "#fb9f3a"
            ],
            [
             0.8888888888888888,
             "#fdca26"
            ],
            [
             1,
             "#f0f921"
            ]
           ],
           "sequentialminus": [
            [
             0,
             "#0d0887"
            ],
            [
             0.1111111111111111,
             "#46039f"
            ],
            [
             0.2222222222222222,
             "#7201a8"
            ],
            [
             0.3333333333333333,
             "#9c179e"
            ],
            [
             0.4444444444444444,
             "#bd3786"
            ],
            [
             0.5555555555555556,
             "#d8576b"
            ],
            [
             0.6666666666666666,
             "#ed7953"
            ],
            [
             0.7777777777777778,
             "#fb9f3a"
            ],
            [
             0.8888888888888888,
             "#fdca26"
            ],
            [
             1,
             "#f0f921"
            ]
           ]
          },
          "colorway": [
           "#636efa",
           "#EF553B",
           "#00cc96",
           "#ab63fa",
           "#FFA15A",
           "#19d3f3",
           "#FF6692",
           "#B6E880",
           "#FF97FF",
           "#FECB52"
          ],
          "font": {
           "color": "#2a3f5f"
          },
          "geo": {
           "bgcolor": "white",
           "lakecolor": "white",
           "landcolor": "#E5ECF6",
           "showlakes": true,
           "showland": true,
           "subunitcolor": "white"
          },
          "hoverlabel": {
           "align": "left"
          },
          "hovermode": "closest",
          "mapbox": {
           "style": "light"
          },
          "paper_bgcolor": "white",
          "plot_bgcolor": "#E5ECF6",
          "polar": {
           "angularaxis": {
            "gridcolor": "white",
            "linecolor": "white",
            "ticks": ""
           },
           "bgcolor": "#E5ECF6",
           "radialaxis": {
            "gridcolor": "white",
            "linecolor": "white",
            "ticks": ""
           }
          },
          "scene": {
           "xaxis": {
            "backgroundcolor": "#E5ECF6",
            "gridcolor": "white",
            "gridwidth": 2,
            "linecolor": "white",
            "showbackground": true,
            "ticks": "",
            "zerolinecolor": "white"
           },
           "yaxis": {
            "backgroundcolor": "#E5ECF6",
            "gridcolor": "white",
            "gridwidth": 2,
            "linecolor": "white",
            "showbackground": true,
            "ticks": "",
            "zerolinecolor": "white"
           },
           "zaxis": {
            "backgroundcolor": "#E5ECF6",
            "gridcolor": "white",
            "gridwidth": 2,
            "linecolor": "white",
            "showbackground": true,
            "ticks": "",
            "zerolinecolor": "white"
           }
          },
          "shapedefaults": {
           "line": {
            "color": "#2a3f5f"
           }
          },
          "ternary": {
           "aaxis": {
            "gridcolor": "white",
            "linecolor": "white",
            "ticks": ""
           },
           "baxis": {
            "gridcolor": "white",
            "linecolor": "white",
            "ticks": ""
           },
           "bgcolor": "#E5ECF6",
           "caxis": {
            "gridcolor": "white",
            "linecolor": "white",
            "ticks": ""
           }
          },
          "title": {
           "x": 0.05
          },
          "xaxis": {
           "automargin": true,
           "gridcolor": "white",
           "linecolor": "white",
           "ticks": "",
           "title": {
            "standoff": 15
           },
           "zerolinecolor": "white",
           "zerolinewidth": 2
          },
          "yaxis": {
           "automargin": true,
           "gridcolor": "white",
           "linecolor": "white",
           "ticks": "",
           "title": {
            "standoff": 15
           },
           "zerolinecolor": "white",
           "zerolinewidth": 2
          }
         }
        },
        "width": 1024
       }
      }
     },
     "metadata": {},
     "output_type": "display_data"
    }
   ],
   "source": [
    "fig = go.Figure()\n",
    "\n",
    "LMC_H = 600\n",
    "LMC0 = make_LMC(LMC_loc=[0,0,0], LMC_orient=[0, 0, -45], LMC_H=LMC_H)\n",
    "LMC1 = make_LMC(LMC_loc=[50,0,0], LMC_orient=[-20, 0, 45], LMC_H=LMC_H)\n",
    "LMC2 = make_LMC(LMC_loc=[50,50,0], LMC_orient=[20, 0, -45], LMC_H=LMC_H)\n",
    "LMC3 = make_LMC(LMC_loc=[0,50,0], LMC_orient=[20, 0, 45], LMC_H=LMC_H)\n",
    "\n",
    "fig = plotLMC(fig, LMC0, color='red', name='0')\n",
    "fig = plotLMC(fig, LMC1, color='green', name='1')\n",
    "fig = plotLMC(fig, LMC2, color='blue', name='2')\n",
    "fig = plotLMC(fig, LMC3, color='orange', name='3')\n",
    "\n",
    "fig.show()"
   ]
  },
  {
   "cell_type": "code",
   "execution_count": null,
   "metadata": {},
   "outputs": [],
   "source": [
    "# GENERAL\n",
    "HandModel = getHandModel()\n",
    "q = np.zeros(20)\n",
    "# set the thumb in a flat position\n",
    "q[0] = 0.4\n",
    "q[1] = -0.6\n",
    "q[2] = 0.1\n",
    "state = setHandPose(HandModel, q)\n",
    "fingers_idx = np.array([[0,3,8,17], #thumb (root to tip)\n",
    "                        [4,9,13,18], #index\n",
    "                        [5,10,14,19], #middle\n",
    "                        [6,11,15,20], #ring\n",
    "                        [7,12,16,21]]) #pinky\n",
    "finger_radius = 10 # mm\n",
    "#palm_plane_idx = np.array([7, 6, 5, 4, 1, 25, 24, 2]) # cirsumverence of palm clockwise\n",
    "\n",
    "# HAND\n",
    "# x = + flexion, - extension\n",
    "# y = + pronation, - supination\n",
    "# z = + ulna devation, - radial deviation\n",
    "pos_markers = getHandMarkers(HandModel, state, pos=np.array([0, -100, 300]), orient=np.array([0., 0., 0.]))\n",
    "\n",
    "# PALM;\n",
    "pv__ = (pos_markers[2] + pos_markers[1]) / 2 - pos_markers[6] # vector pointing from the finger root to the wrist\n",
    "pv__ /= np.linalg.norm(pv__)\n",
    "palm_markers = np.array([pos_markers[7] + pv__*3, pos_markers[6] + pv__*3, pos_markers[5] + pv__*3, pos_markers[4] + pv__*3, # to make sure the finger root markers do not intersect with the palm\n",
    "                         pos_markers[1], pos_markers[25], pos_markers[24], pos_markers[2]])\n",
    "# normal plane to the palm and palm centroid\n",
    "palm_plane_normal = get_regressionPlane(palm_markers)\n",
    "palm_centroid = np.mean(palm_markers, axis=0)\n",
    "\n",
    "# FINGERS\n",
    "# the line chain of a finger starts at the finger root and clinbs marker by marker to the finger tip\n",
    "# the base of a line is always the origin of a vector pointing from towards the tip -> this means the only frogner marker not a line origin is the finger tip\n",
    "#finger_lines has the shape (num_fingers, num_phlanges, len_phlanges)\n",
    "finger_lines = np.array([[(pos_markers[fingers_idx[j, i]], (pos_markers[fingers_idx[j, i+1]]-pos_markers[fingers_idx[j, i]])/np.linalg.norm(pos_markers[fingers_idx[j, i+1]]-pos_markers[fingers_idx[j, i]]), np.linalg.norm(pos_markers[fingers_idx[j, i+1]]-pos_markers[fingers_idx[j, i]])) for i in range(fingers_idx.shape[1]-1)] for j in range(fingers_idx.shape[0])])\n",
    "\n",
    "# LMC\n",
    "LMC = make_LMC(LMC_loc=[0, 0, 0], LMC_orient=[0, 0, 0], LMC_H=600)\n",
    "\n",
    "fig = go.Figure()\n",
    "fig = plotLMC(fig, LMC, color='orange', name='LMC', scale = 30)\n",
    "fig = plot_hand(fig, pos_markers)\n",
    "\n",
    "occlusions = check_LMC_Hand_visibility(LMC, pos_markers, fingers_idx, finger_lines, finger_radius, palm_plane_normal, palm_centroid, palm_markers)\n",
    "print(occlusions)\n",
    "fig.show()"
   ]
  },
  {
   "cell_type": "code",
   "execution_count": null,
   "metadata": {},
   "outputs": [],
   "source": [
    "def generate_hand_poses(num_poses, limitsPS=[180, -180], limis_FE=[60, 60], limits_WD=[40, 20]):\n",
    "    # x = + flexion, - extension\n",
    "    # y = + pronation, - supination\n",
    "# z = + ulna devation, - radial deviation\n",
    "\n",
    "    fingers_idx = np.array([[0,3,8,17], #thumb (root to tip)\n",
    "                        [4,9,13,18], #index\n",
    "                        [5,10,14,19], #middle\n",
    "                        [6,11,15,20], #ring\n",
    "                        [7,12,16,21]]) #pinky\n",
    "\n",
    "    handMarkers = np.zeros([num_poses, 26, 3])\n",
    "    palmMarkers = np.zeros([num_poses, 8, 3])\n",
    "    palmPlnNormals = np.zeros([num_poses, 3])\n",
    "    palmCentroids = np.zeros([num_poses, 3])\n",
    "    fingers = []\n",
    "\n",
    "    ax = np.random.uniform(limis_FE[0],limis_FE[1],num_poses) * np.pi/180\n",
    "    ay = np.random.uniform(limitsPS[0],limitsPS[1],num_poses) * np.pi/180\n",
    "    az = np.random.uniform(limits_WD[0],limits_WD[1],num_poses) * np.pi/180\n",
    "\n",
    "    for i in range(num_poses):\n",
    "        pos_markers = getHandMarkers(HandModel, state, pos=np.array([0, -100, 300]), orient=np.array([ax[i], ay[i], az[i]]))\n",
    "        pos_markers *= 1/np.linalg.norm(pos_markers[20]-pos_markers[24]) * 200 # scale hand to 200mm length\n",
    "        handMarkers[i, :] = pos_markers\n",
    "        pv__ = (pos_markers[2] + pos_markers[1]) / 2 - pos_markers[6] # vector pointing from the finger root to the wrist\n",
    "        pv__ /= np.linalg.norm(pv__)\n",
    "        palmMarkers[i, :] = np.array([pos_markers[7] + pv__*3, pos_markers[6] + pv__*3, pos_markers[5] + pv__*3, pos_markers[4] + pv__*3, # to make sure the finger root markers do not intersect with the palm\n",
    "                            pos_markers[1], pos_markers[25], pos_markers[24], pos_markers[2]])\n",
    "\n",
    "        palmPlnNormals[i, :] = get_regressionPlane(palmMarkers[i, :]) # normal plane to the palm and palm centroid\n",
    "        palmCentroids[i, :] = np.mean(palmMarkers[i, :], axis=0) # centroid marker of the palm\n",
    "\n",
    "        # FINGERS\n",
    "        # the line chain of a finger starts at the finger root and clinbs marker by marker to the finger tip\n",
    "        # the base of a line is always the origin of a vector pointing from towards the tip -> this means the only frogner marker not a line origin is the finger tip\n",
    "        #finger_lines has the shape (num_fingers, num_phlanges, len_phlanges)\n",
    "        fingers += [np.array([[(pos_markers[fingers_idx[j, i]], \n",
    "                                (pos_markers[fingers_idx[j, i+1]]-pos_markers[fingers_idx[j, i]])/np.linalg.norm(pos_markers[fingers_idx[j, i+1]]-pos_markers[fingers_idx[j, i]]), \n",
    "                                np.linalg.norm(pos_markers[fingers_idx[j, i+1]]-pos_markers[fingers_idx[j, i]])) for i in range(fingers_idx.shape[1]-1)] for j in range(fingers_idx.shape[0])], dtype=object)]\n",
    "    \n",
    "    return handMarkers, palmMarkers, palmPlnNormals, palmCentroids, fingers\n",
    "\n",
    "def generate_hand_pose(pos, PS, FE, WD):\n",
    "    # x = + flexion, - extension\n",
    "    # y = + pronation, - supination\n",
    "    # z = + ulna devation, - radial deviation\n",
    "\n",
    "    fingers_idx = np.array([[0,3,8,17], #thumb (root to tip)\n",
    "                        [4,9,13,18], #index\n",
    "                        [5,10,14,19], #middle\n",
    "                        [6,11,15,20], #ring\n",
    "                        [7,12,16,21]]) #pinky\n",
    "\n",
    "    handMarkers = np.zeros([1, 26, 3])\n",
    "    palmMarkers = np.zeros([1, 8, 3])\n",
    "    palmPlnNormals = np.zeros([1, 3])\n",
    "    palmCentroids = np.zeros([1, 3])\n",
    "    fingers = []\n",
    "\n",
    "    i = 0\n",
    "    pos_markers = getHandMarkers(HandModel, state, pos=pos, orient=np.array([FE, PS, WD])*np.pi/180)\n",
    "    pos_markers *= 1/np.linalg.norm(pos_markers[20]-pos_markers[24]) * 200 # scale hand to 200mm length\n",
    "    handMarkers[i, :] = pos_markers\n",
    "    pv__ = (pos_markers[2] + pos_markers[1]) / 2 - pos_markers[6] # vector pointing from the finger root to the wrist\n",
    "    pv__ /= np.linalg.norm(pv__)\n",
    "    palmMarkers[i, :] = np.array([pos_markers[7] + pv__*3, pos_markers[6] + pv__*3, pos_markers[5] + pv__*3, pos_markers[4] + pv__*3, # to make sure the finger root markers do not intersect with the palm\n",
    "                        pos_markers[1], pos_markers[25], pos_markers[24], pos_markers[2]])\n",
    "\n",
    "    palmPlnNormals[i, :] = get_regressionPlane(palmMarkers[i, :]) # normal plane to the palm and palm centroid\n",
    "    palmCentroids[i, :] = np.mean(palmMarkers[i, :], axis=0) # centroid marker of the palm\n",
    "\n",
    "    # FINGERS\n",
    "    # the line chain of a finger starts at the finger root and clinbs marker by marker to the finger tip\n",
    "    # the base of a line is always the origin of a vector pointing from towards the tip -> this means the only frogner marker not a line origin is the finger tip\n",
    "    #finger_lines has the shape (num_fingers, num_phlanges, len_phlanges)\n",
    "    fingers += [np.array([[(pos_markers[fingers_idx[j, i]], \n",
    "                            (pos_markers[fingers_idx[j, i+1]]-pos_markers[fingers_idx[j, i]])/np.linalg.norm(pos_markers[fingers_idx[j, i+1]]-pos_markers[fingers_idx[j, i]]), \n",
    "                            np.linalg.norm(pos_markers[fingers_idx[j, i+1]]-pos_markers[fingers_idx[j, i]])) for i in range(fingers_idx.shape[1]-1)] for j in range(fingers_idx.shape[0])], dtype=object)]\n",
    "    \n",
    "    return handMarkers, palmMarkers, palmPlnNormals, palmCentroids, fingers"
   ]
  },
  {
   "cell_type": "code",
   "execution_count": 39,
   "metadata": {},
   "outputs": [
    {
     "name": "stdout",
     "output_type": "stream",
     "text": [
      "[1. 1. 1. 1. 1. 1. 1.]\n"
     ]
    },
    {
     "data": {
      "application/vnd.plotly.v1+json": {
       "config": {
        "plotlyServerURL": "https://plot.ly"
       },
       "data": [
        {
         "marker": {
          "color": "orange",
          "size": 5
         },
         "mode": "markers+text",
         "type": "scatter3d",
         "x": [
          -380
         ],
         "y": [
          130
         ],
         "z": [
          0
         ]
        },
        {
         "line": {
          "color": "orange",
          "width": 2
         },
         "mode": "lines",
         "type": "scatter3d",
         "x": [
          -380,
          -380,
          null
         ],
         "y": [
          130,
          -129.8076211353316,
          null
         ],
         "z": [
          0,
          149.99999999999997,
          null
         ]
        },
        {
         "colorscale": [
          [
           0,
           "orange"
          ],
          [
           1,
           "orange"
          ]
         ],
         "showlegend": false,
         "showscale": false,
         "type": "cone",
         "u": [
          0
         ],
         "v": [
          -77.94228634059948
         ],
         "w": [
          44.99999999999999
         ],
         "x": [
          -380
         ],
         "y": [
          -124.61146871262497
         ],
         "z": [
          146.99999999999997
         ]
        },
        {
         "marker": {
          "color": "orange",
          "size": 5
         },
         "mode": "markers+text",
         "type": "scatter3d",
         "x": [
          -380
         ],
         "y": [
          130
         ],
         "z": [
          0
         ]
        },
        {
         "line": {
          "color": "orange",
          "width": 2
         },
         "mode": "lines",
         "type": "scatter3d",
         "x": [
          -380,
          -90.22225211327952,
          null
         ],
         "y": [
          130,
          130,
          null
         ],
         "z": [
          0,
          77.64571353075623,
          null
         ]
        },
        {
         "colorscale": [
          [
           0,
           "orange"
          ],
          [
           1,
           "orange"
          ]
         ],
         "showlegend": false,
         "showscale": false,
         "type": "cone",
         "u": [
          86.93332436601614
         ],
         "v": [
          0
         ],
         "w": [
          23.29371405922687
         ],
         "x": [
          -96.01780707101392
         ],
         "y": [
          130
         ],
         "z": [
          76.0927992601411
         ]
        },
        {
         "marker": {
          "color": "orange",
          "size": 5
         },
         "mode": "markers+text",
         "type": "scatter3d",
         "x": [
          -380
         ],
         "y": [
          130
         ],
         "z": [
          0
         ]
        },
        {
         "line": {
          "color": "orange",
          "width": 2
         },
         "mode": "lines",
         "type": "scatter3d",
         "x": [
          -380,
          -380,
          null
         ],
         "y": [
          130,
          389.8076211353316,
          null
         ],
         "z": [
          0,
          149.99999999999997,
          null
         ]
        },
        {
         "colorscale": [
          [
           0,
           "orange"
          ],
          [
           1,
           "orange"
          ]
         ],
         "showlegend": false,
         "showscale": false,
         "type": "cone",
         "u": [
          0
         ],
         "v": [
          77.94228634059948
         ],
         "w": [
          44.99999999999999
         ],
         "x": [
          -380
         ],
         "y": [
          384.61146871262497
         ],
         "z": [
          146.99999999999997
         ]
        },
        {
         "marker": {
          "color": "orange",
          "size": 5
         },
         "mode": "markers+text",
         "type": "scatter3d",
         "x": [
          -380
         ],
         "y": [
          130
         ],
         "z": [
          0
         ]
        },
        {
         "line": {
          "color": "orange",
          "width": 2
         },
         "mode": "lines",
         "type": "scatter3d",
         "x": [
          -380,
          -669.7777478867205,
          null
         ],
         "y": [
          130,
          130,
          null
         ],
         "z": [
          0,
          77.64571353075623,
          null
         ]
        },
        {
         "colorscale": [
          [
           0,
           "orange"
          ],
          [
           1,
           "orange"
          ]
         ],
         "showlegend": false,
         "showscale": false,
         "type": "cone",
         "u": [
          -86.93332436601614
         ],
         "v": [
          0
         ],
         "w": [
          23.29371405922687
         ],
         "x": [
          -663.982192928986
         ],
         "y": [
          130
         ],
         "z": [
          76.0927992601411
         ]
        },
        {
         "marker": {
          "color": "orange",
          "size": 5
         },
         "mode": "markers+text",
         "text": "0d",
         "type": "scatter3d",
         "x": [
          -380
         ],
         "y": [
          0.09618943233419941
         ],
         "z": [
          74.99999999999999
         ]
        },
        {
         "marker": {
          "color": "orange",
          "size": 5
         },
         "mode": "markers+text",
         "text": "1d",
         "type": "scatter3d",
         "x": [
          -235.11112605663976
         ],
         "y": [
          130
         ],
         "z": [
          38.82285676537811
         ]
        },
        {
         "marker": {
          "color": "orange",
          "size": 5
         },
         "mode": "markers+text",
         "text": "2d",
         "type": "scatter3d",
         "x": [
          -380
         ],
         "y": [
          259.9038105676658
         ],
         "z": [
          74.99999999999999
         ]
        },
        {
         "marker": {
          "color": "orange",
          "size": 5
         },
         "mode": "markers+text",
         "text": "3d",
         "type": "scatter3d",
         "x": [
          -524.8888739433603
         ],
         "y": [
          130
         ],
         "z": [
          38.82285676537811
         ]
        },
        {
         "marker": {
          "color": "orange",
          "size": 5
         },
         "mode": "markers+text",
         "type": "scatter3d",
         "x": [
          -380
         ],
         "y": [
          130
         ],
         "z": [
          0
         ]
        },
        {
         "line": {
          "color": "orange",
          "width": 2
         },
         "mode": "lines",
         "type": "scatter3d",
         "x": [
          -380,
          -380,
          null
         ],
         "y": [
          130,
          430,
          null
         ],
         "z": [
          0,
          0,
          null
         ]
        },
        {
         "colorscale": [
          [
           0,
           "orange"
          ],
          [
           1,
           "orange"
          ]
         ],
         "showlegend": false,
         "showscale": false,
         "type": "cone",
         "u": [
          0
         ],
         "v": [
          90
         ],
         "w": [
          0
         ],
         "x": [
          -380
         ],
         "y": [
          424
         ],
         "z": [
          0
         ]
        },
        {
         "marker": {
          "color": "orange",
          "size": 5
         },
         "mode": "markers+text",
         "text": "LMC",
         "type": "scatter3d",
         "x": [
          -380
         ],
         "y": [
          130
         ],
         "z": [
          0
         ]
        },
        {
         "marker": {
          "color": "blue",
          "size": 5
         },
         "mode": "markers+text",
         "text": [
          0,
          1,
          2,
          3,
          4,
          5,
          6,
          7,
          8,
          9,
          10,
          11,
          12,
          13,
          14,
          15,
          16,
          17,
          18,
          19,
          20,
          21,
          22,
          23,
          24,
          25
         ],
         "type": "scatter3d",
         "x": [
          9.4098110473911,
          -8.9529803308769,
          -7.472844917917064,
          20.778027417231275,
          0.0010895002134085428,
          -1.0959260117360343,
          0.9881856356647079,
          0.563413341429151,
          25.295311971632692,
          4.453402496562397,
          6.295299050436839,
          9.324203933319785,
          6.199065690062207,
          7.678603335372421,
          9.838523962802098,
          12.943633818926138,
          10.324692944889177,
          28.10472268587001,
          8.219368705220678,
          10.283333259796985,
          17.06333488652509,
          11.919775489292466,
          49.566143615149095,
          -2.960560702861752,
          -0.00009321185828976525,
          0.00009321185829580334
         ],
         "y": [
          -68.48161875460463,
          -45.129174919162026,
          -48.161424548364664,
          -33.742580156886596,
          11.5304423163642,
          11.175091087345931,
          7.7121800464186085,
          -3.673851527731642,
          -4.25071085069878,
          55.77138830220385,
          60.38585388206965,
          57.96136906421048,
          31.034931688866234,
          82.25263363419619,
          89.91096208035118,
          81.42439166436314,
          53.627917689367756,
          21.024447205886556,
          98.5784306291386,
          105.92628123187133,
          100.18788190734374,
          69.93349235139029,
          -290.2650498206238,
          -293.40222525835344,
          -99.06222194990012,
          -100.93777805009977
         ],
         "z": [
          262.4715783303531,
          280.5741990572509,
          326.62623442496306,
          240.51994345652255,
          278.051008547417,
          300.65920027170023,
          320.59286737531755,
          338.73165361068436,
          233.3944482655405,
          280.16681882959637,
          301.097299137167,
          322.3511990888108,
          340.55978246487365,
          283.03777729641934,
          302.146898549276,
          322.54547676411613,
          338.7387923221184,
          230.3229850303637,
          284.2097033936271,
          302.90879454342013,
          323.13460093047416,
          339.0866811729465,
          298.264927696833,
          330.7823336386574,
          326.0043630127447,
          273.9956369872552
         ]
        }
       ],
       "layout": {
        "height": 1024,
        "scene": {
         "aspectmode": "data",
         "aspectratio": {
          "x": 1,
          "y": 1,
          "z": 1
         },
         "camera": {
          "center": {
           "x": 0,
           "y": 0,
           "z": 0
          },
          "eye": {
           "x": -2,
           "y": -0.5,
           "z": 3
          },
          "up": {
           "x": 0,
           "y": 0,
           "z": 20
          }
         }
        },
        "template": {
         "data": {
          "bar": [
           {
            "error_x": {
             "color": "#2a3f5f"
            },
            "error_y": {
             "color": "#2a3f5f"
            },
            "marker": {
             "line": {
              "color": "#E5ECF6",
              "width": 0.5
             },
             "pattern": {
              "fillmode": "overlay",
              "size": 10,
              "solidity": 0.2
             }
            },
            "type": "bar"
           }
          ],
          "barpolar": [
           {
            "marker": {
             "line": {
              "color": "#E5ECF6",
              "width": 0.5
             },
             "pattern": {
              "fillmode": "overlay",
              "size": 10,
              "solidity": 0.2
             }
            },
            "type": "barpolar"
           }
          ],
          "carpet": [
           {
            "aaxis": {
             "endlinecolor": "#2a3f5f",
             "gridcolor": "white",
             "linecolor": "white",
             "minorgridcolor": "white",
             "startlinecolor": "#2a3f5f"
            },
            "baxis": {
             "endlinecolor": "#2a3f5f",
             "gridcolor": "white",
             "linecolor": "white",
             "minorgridcolor": "white",
             "startlinecolor": "#2a3f5f"
            },
            "type": "carpet"
           }
          ],
          "choropleth": [
           {
            "colorbar": {
             "outlinewidth": 0,
             "ticks": ""
            },
            "type": "choropleth"
           }
          ],
          "contour": [
           {
            "colorbar": {
             "outlinewidth": 0,
             "ticks": ""
            },
            "colorscale": [
             [
              0,
              "#0d0887"
             ],
             [
              0.1111111111111111,
              "#46039f"
             ],
             [
              0.2222222222222222,
              "#7201a8"
             ],
             [
              0.3333333333333333,
              "#9c179e"
             ],
             [
              0.4444444444444444,
              "#bd3786"
             ],
             [
              0.5555555555555556,
              "#d8576b"
             ],
             [
              0.6666666666666666,
              "#ed7953"
             ],
             [
              0.7777777777777778,
              "#fb9f3a"
             ],
             [
              0.8888888888888888,
              "#fdca26"
             ],
             [
              1,
              "#f0f921"
             ]
            ],
            "type": "contour"
           }
          ],
          "contourcarpet": [
           {
            "colorbar": {
             "outlinewidth": 0,
             "ticks": ""
            },
            "type": "contourcarpet"
           }
          ],
          "heatmap": [
           {
            "colorbar": {
             "outlinewidth": 0,
             "ticks": ""
            },
            "colorscale": [
             [
              0,
              "#0d0887"
             ],
             [
              0.1111111111111111,
              "#46039f"
             ],
             [
              0.2222222222222222,
              "#7201a8"
             ],
             [
              0.3333333333333333,
              "#9c179e"
             ],
             [
              0.4444444444444444,
              "#bd3786"
             ],
             [
              0.5555555555555556,
              "#d8576b"
             ],
             [
              0.6666666666666666,
              "#ed7953"
             ],
             [
              0.7777777777777778,
              "#fb9f3a"
             ],
             [
              0.8888888888888888,
              "#fdca26"
             ],
             [
              1,
              "#f0f921"
             ]
            ],
            "type": "heatmap"
           }
          ],
          "heatmapgl": [
           {
            "colorbar": {
             "outlinewidth": 0,
             "ticks": ""
            },
            "colorscale": [
             [
              0,
              "#0d0887"
             ],
             [
              0.1111111111111111,
              "#46039f"
             ],
             [
              0.2222222222222222,
              "#7201a8"
             ],
             [
              0.3333333333333333,
              "#9c179e"
             ],
             [
              0.4444444444444444,
              "#bd3786"
             ],
             [
              0.5555555555555556,
              "#d8576b"
             ],
             [
              0.6666666666666666,
              "#ed7953"
             ],
             [
              0.7777777777777778,
              "#fb9f3a"
             ],
             [
              0.8888888888888888,
              "#fdca26"
             ],
             [
              1,
              "#f0f921"
             ]
            ],
            "type": "heatmapgl"
           }
          ],
          "histogram": [
           {
            "marker": {
             "pattern": {
              "fillmode": "overlay",
              "size": 10,
              "solidity": 0.2
             }
            },
            "type": "histogram"
           }
          ],
          "histogram2d": [
           {
            "colorbar": {
             "outlinewidth": 0,
             "ticks": ""
            },
            "colorscale": [
             [
              0,
              "#0d0887"
             ],
             [
              0.1111111111111111,
              "#46039f"
             ],
             [
              0.2222222222222222,
              "#7201a8"
             ],
             [
              0.3333333333333333,
              "#9c179e"
             ],
             [
              0.4444444444444444,
              "#bd3786"
             ],
             [
              0.5555555555555556,
              "#d8576b"
             ],
             [
              0.6666666666666666,
              "#ed7953"
             ],
             [
              0.7777777777777778,
              "#fb9f3a"
             ],
             [
              0.8888888888888888,
              "#fdca26"
             ],
             [
              1,
              "#f0f921"
             ]
            ],
            "type": "histogram2d"
           }
          ],
          "histogram2dcontour": [
           {
            "colorbar": {
             "outlinewidth": 0,
             "ticks": ""
            },
            "colorscale": [
             [
              0,
              "#0d0887"
             ],
             [
              0.1111111111111111,
              "#46039f"
             ],
             [
              0.2222222222222222,
              "#7201a8"
             ],
             [
              0.3333333333333333,
              "#9c179e"
             ],
             [
              0.4444444444444444,
              "#bd3786"
             ],
             [
              0.5555555555555556,
              "#d8576b"
             ],
             [
              0.6666666666666666,
              "#ed7953"
             ],
             [
              0.7777777777777778,
              "#fb9f3a"
             ],
             [
              0.8888888888888888,
              "#fdca26"
             ],
             [
              1,
              "#f0f921"
             ]
            ],
            "type": "histogram2dcontour"
           }
          ],
          "mesh3d": [
           {
            "colorbar": {
             "outlinewidth": 0,
             "ticks": ""
            },
            "type": "mesh3d"
           }
          ],
          "parcoords": [
           {
            "line": {
             "colorbar": {
              "outlinewidth": 0,
              "ticks": ""
             }
            },
            "type": "parcoords"
           }
          ],
          "pie": [
           {
            "automargin": true,
            "type": "pie"
           }
          ],
          "scatter": [
           {
            "fillpattern": {
             "fillmode": "overlay",
             "size": 10,
             "solidity": 0.2
            },
            "type": "scatter"
           }
          ],
          "scatter3d": [
           {
            "line": {
             "colorbar": {
              "outlinewidth": 0,
              "ticks": ""
             }
            },
            "marker": {
             "colorbar": {
              "outlinewidth": 0,
              "ticks": ""
             }
            },
            "type": "scatter3d"
           }
          ],
          "scattercarpet": [
           {
            "marker": {
             "colorbar": {
              "outlinewidth": 0,
              "ticks": ""
             }
            },
            "type": "scattercarpet"
           }
          ],
          "scattergeo": [
           {
            "marker": {
             "colorbar": {
              "outlinewidth": 0,
              "ticks": ""
             }
            },
            "type": "scattergeo"
           }
          ],
          "scattergl": [
           {
            "marker": {
             "colorbar": {
              "outlinewidth": 0,
              "ticks": ""
             }
            },
            "type": "scattergl"
           }
          ],
          "scattermapbox": [
           {
            "marker": {
             "colorbar": {
              "outlinewidth": 0,
              "ticks": ""
             }
            },
            "type": "scattermapbox"
           }
          ],
          "scatterpolar": [
           {
            "marker": {
             "colorbar": {
              "outlinewidth": 0,
              "ticks": ""
             }
            },
            "type": "scatterpolar"
           }
          ],
          "scatterpolargl": [
           {
            "marker": {
             "colorbar": {
              "outlinewidth": 0,
              "ticks": ""
             }
            },
            "type": "scatterpolargl"
           }
          ],
          "scatterternary": [
           {
            "marker": {
             "colorbar": {
              "outlinewidth": 0,
              "ticks": ""
             }
            },
            "type": "scatterternary"
           }
          ],
          "surface": [
           {
            "colorbar": {
             "outlinewidth": 0,
             "ticks": ""
            },
            "colorscale": [
             [
              0,
              "#0d0887"
             ],
             [
              0.1111111111111111,
              "#46039f"
             ],
             [
              0.2222222222222222,
              "#7201a8"
             ],
             [
              0.3333333333333333,
              "#9c179e"
             ],
             [
              0.4444444444444444,
              "#bd3786"
             ],
             [
              0.5555555555555556,
              "#d8576b"
             ],
             [
              0.6666666666666666,
              "#ed7953"
             ],
             [
              0.7777777777777778,
              "#fb9f3a"
             ],
             [
              0.8888888888888888,
              "#fdca26"
             ],
             [
              1,
              "#f0f921"
             ]
            ],
            "type": "surface"
           }
          ],
          "table": [
           {
            "cells": {
             "fill": {
              "color": "#EBF0F8"
             },
             "line": {
              "color": "white"
             }
            },
            "header": {
             "fill": {
              "color": "#C8D4E3"
             },
             "line": {
              "color": "white"
             }
            },
            "type": "table"
           }
          ]
         },
         "layout": {
          "annotationdefaults": {
           "arrowcolor": "#2a3f5f",
           "arrowhead": 0,
           "arrowwidth": 1
          },
          "autotypenumbers": "strict",
          "coloraxis": {
           "colorbar": {
            "outlinewidth": 0,
            "ticks": ""
           }
          },
          "colorscale": {
           "diverging": [
            [
             0,
             "#8e0152"
            ],
            [
             0.1,
             "#c51b7d"
            ],
            [
             0.2,
             "#de77ae"
            ],
            [
             0.3,
             "#f1b6da"
            ],
            [
             0.4,
             "#fde0ef"
            ],
            [
             0.5,
             "#f7f7f7"
            ],
            [
             0.6,
             "#e6f5d0"
            ],
            [
             0.7,
             "#b8e186"
            ],
            [
             0.8,
             "#7fbc41"
            ],
            [
             0.9,
             "#4d9221"
            ],
            [
             1,
             "#276419"
            ]
           ],
           "sequential": [
            [
             0,
             "#0d0887"
            ],
            [
             0.1111111111111111,
             "#46039f"
            ],
            [
             0.2222222222222222,
             "#7201a8"
            ],
            [
             0.3333333333333333,
             "#9c179e"
            ],
            [
             0.4444444444444444,
             "#bd3786"
            ],
            [
             0.5555555555555556,
             "#d8576b"
            ],
            [
             0.6666666666666666,
             "#ed7953"
            ],
            [
             0.7777777777777778,
             "#fb9f3a"
            ],
            [
             0.8888888888888888,
             "#fdca26"
            ],
            [
             1,
             "#f0f921"
            ]
           ],
           "sequentialminus": [
            [
             0,
             "#0d0887"
            ],
            [
             0.1111111111111111,
             "#46039f"
            ],
            [
             0.2222222222222222,
             "#7201a8"
            ],
            [
             0.3333333333333333,
             "#9c179e"
            ],
            [
             0.4444444444444444,
             "#bd3786"
            ],
            [
             0.5555555555555556,
             "#d8576b"
            ],
            [
             0.6666666666666666,
             "#ed7953"
            ],
            [
             0.7777777777777778,
             "#fb9f3a"
            ],
            [
             0.8888888888888888,
             "#fdca26"
            ],
            [
             1,
             "#f0f921"
            ]
           ]
          },
          "colorway": [
           "#636efa",
           "#EF553B",
           "#00cc96",
           "#ab63fa",
           "#FFA15A",
           "#19d3f3",
           "#FF6692",
           "#B6E880",
           "#FF97FF",
           "#FECB52"
          ],
          "font": {
           "color": "#2a3f5f"
          },
          "geo": {
           "bgcolor": "white",
           "lakecolor": "white",
           "landcolor": "#E5ECF6",
           "showlakes": true,
           "showland": true,
           "subunitcolor": "white"
          },
          "hoverlabel": {
           "align": "left"
          },
          "hovermode": "closest",
          "mapbox": {
           "style": "light"
          },
          "paper_bgcolor": "white",
          "plot_bgcolor": "#E5ECF6",
          "polar": {
           "angularaxis": {
            "gridcolor": "white",
            "linecolor": "white",
            "ticks": ""
           },
           "bgcolor": "#E5ECF6",
           "radialaxis": {
            "gridcolor": "white",
            "linecolor": "white",
            "ticks": ""
           }
          },
          "scene": {
           "xaxis": {
            "backgroundcolor": "#E5ECF6",
            "gridcolor": "white",
            "gridwidth": 2,
            "linecolor": "white",
            "showbackground": true,
            "ticks": "",
            "zerolinecolor": "white"
           },
           "yaxis": {
            "backgroundcolor": "#E5ECF6",
            "gridcolor": "white",
            "gridwidth": 2,
            "linecolor": "white",
            "showbackground": true,
            "ticks": "",
            "zerolinecolor": "white"
           },
           "zaxis": {
            "backgroundcolor": "#E5ECF6",
            "gridcolor": "white",
            "gridwidth": 2,
            "linecolor": "white",
            "showbackground": true,
            "ticks": "",
            "zerolinecolor": "white"
           }
          },
          "shapedefaults": {
           "line": {
            "color": "#2a3f5f"
           }
          },
          "ternary": {
           "aaxis": {
            "gridcolor": "white",
            "linecolor": "white",
            "ticks": ""
           },
           "baxis": {
            "gridcolor": "white",
            "linecolor": "white",
            "ticks": ""
           },
           "bgcolor": "#E5ECF6",
           "caxis": {
            "gridcolor": "white",
            "linecolor": "white",
            "ticks": ""
           }
          },
          "title": {
           "x": 0.05
          },
          "xaxis": {
           "automargin": true,
           "gridcolor": "white",
           "linecolor": "white",
           "ticks": "",
           "title": {
            "standoff": 15
           },
           "zerolinecolor": "white",
           "zerolinewidth": 2
          },
          "yaxis": {
           "automargin": true,
           "gridcolor": "white",
           "linecolor": "white",
           "ticks": "",
           "title": {
            "standoff": 15
           },
           "zerolinecolor": "white",
           "zerolinewidth": 2
          }
         }
        },
        "width": 1024
       }
      }
     },
     "metadata": {},
     "output_type": "display_data"
    }
   ],
   "source": [
    "handMarkers, palmMarkers, palmPlnNormals, palmCentroids, fingers = generate_hand_pose(pos=np.array([0, -100, 300]), PS=90, FE=0, WD=0)\n",
    "data = [handMarkers, palmMarkers, palmPlnNormals, palmCentroids, fingers]\n",
    "LMCs = [make_LMC(LMC_loc=[-380,  130, 0], LMC_orient=[0, 0, 0], LMC_H=LMC_H) ]\n",
    "i = 0\n",
    "print(check_LMC_Hand_visibility(LMCs[0], pos_markers=data[0][i], fingers_idx=fingers_idx, finger_lines=data[4][0], finger_radius=finger_radius, palm_plane_normal=data[2][i], palm_centroid=data[3][i], palm_markers=data[1][i]))\n",
    "\n",
    "fig = go.Figure()\n",
    "fig = plotLMC(fig, LMCs[0], color='orange', name='LMC', scale = 30)\n",
    "fig = plot_hand(fig, data[0][0])\n",
    "fig.show()"
   ]
  },
  {
   "cell_type": "code",
   "execution_count": 46,
   "metadata": {},
   "outputs": [
    {
     "name": "stderr",
     "output_type": "stream",
     "text": [
      "2024-02-16 11:48:41,443 - pyswarms.single.global_best - INFO - Optimize for 1 iters with {'c1': 0.5, 'c2': 0.3, 'w': 0.9}\n",
      "pyswarms.single.global_best:   0%|          |0/1"
     ]
    },
    {
     "name": "stdout",
     "output_type": "stream",
     "text": [
      "[[ 0.37877868  0.13488567]\n",
      " [ 0.42021717 -0.2709991 ]\n",
      " [-0.03750125  0.33172913]\n",
      " [-0.02386014 -0.44324309]\n",
      " [ 0.9786535   0.51059903]\n",
      " [-0.63845133  0.46477027]\n",
      " [-0.30792435 -0.82502065]\n",
      " [-0.95825139 -0.70189191]\n",
      " [ 0.48212152 -0.51251185]\n",
      " [-0.75089713 -0.02468197]]\n",
      "[[1. 1. 1. 1. 1. 1. 1.]]\n",
      "1.0\n",
      "[[0. 0. 0. 0. 0. 0. 0.]]\n",
      "15.0\n",
      "[[1. 1. 1. 1. 0. 0. 0.]]\n",
      "3.0\n",
      "[[0. 0. 0. 0. 0. 0. 0.]]\n",
      "15.0\n",
      "[[0. 0. 0. 0. 0. 0. 0.]]\n",
      "15.0\n",
      "[[0. 0. 0. 0. 0. 0. 0.]]\n",
      "15.0\n",
      "[[0. 0. 0. 0. 0. 0. 0.]]\n",
      "15.0\n",
      "[[0. 0. 0. 0. 0. 0. 0.]]\n",
      "15.0\n",
      "[[0. 0. 0. 0. 0. 0. 0.]]\n",
      "15.0\n",
      "[[0. 0. 0. 0. 0. 0. 0.]]\n",
      "15.0\n"
     ]
    },
    {
     "name": "stderr",
     "output_type": "stream",
     "text": [
      "d:\\Dokumente\\Projects\\HULD\\Paper_util\\IROS_2024_LMC\\LMC_util.py:218: RuntimeWarning:\n",
      "\n",
      "invalid value encountered in arccos\n",
      "\n"
     ]
    },
    {
     "data": {
      "application/vnd.plotly.v1+json": {
       "config": {
        "plotlyServerURL": "https://plot.ly"
       },
       "data": [
        {
         "marker": {
          "color": "blue",
          "size": 5
         },
         "mode": "markers+text",
         "text": "",
         "type": "scatter3d",
         "x": [
          378.7786846977279
         ],
         "y": [
          134.88566804347624
         ],
         "z": [
          0
         ]
        },
        {
         "marker": {
          "color": "blue",
          "size": 5
         },
         "mode": "markers+text",
         "text": "",
         "type": "scatter3d",
         "x": [
          420.217173061733
         ],
         "y": [
          -270.99910091280367
         ],
         "z": [
          0
         ]
        },
        {
         "marker": {
          "color": "blue",
          "size": 5
         },
         "mode": "markers+text",
         "text": "",
         "type": "scatter3d",
         "x": [
          -37.50125480428146
         ],
         "y": [
          331.7291335987413
         ],
         "z": [
          0
         ]
        },
        {
         "marker": {
          "color": "blue",
          "size": 5
         },
         "mode": "markers+text",
         "text": "",
         "type": "scatter3d",
         "x": [
          -23.860138038825916
         ],
         "y": [
          -443.24309073141046
         ],
         "z": [
          0
         ]
        },
        {
         "marker": {
          "color": "blue",
          "size": 5
         },
         "mode": "markers+text",
         "text": "",
         "type": "scatter3d",
         "x": [
          978.653501903068
         ],
         "y": [
          510.5990333888377
         ],
         "z": [
          0
         ]
        },
        {
         "marker": {
          "color": "blue",
          "size": 5
         },
         "mode": "markers+text",
         "text": "",
         "type": "scatter3d",
         "x": [
          -638.4513256339491
         ],
         "y": [
          464.77027387746415
         ],
         "z": [
          0
         ]
        },
        {
         "marker": {
          "color": "blue",
          "size": 5
         },
         "mode": "markers+text",
         "text": "",
         "type": "scatter3d",
         "x": [
          -307.9243497003601
         ],
         "y": [
          -825.0206505850191
         ],
         "z": [
          0
         ]
        },
        {
         "marker": {
          "color": "blue",
          "size": 5
         },
         "mode": "markers+text",
         "text": "",
         "type": "scatter3d",
         "x": [
          -958.251386558928
         ],
         "y": [
          -701.8919119784865
         ],
         "z": [
          0
         ]
        },
        {
         "marker": {
          "color": "blue",
          "size": 5
         },
         "mode": "markers+text",
         "text": "",
         "type": "scatter3d",
         "x": [
          482.1215205362219
         ],
         "y": [
          -512.5118466767819
         ],
         "z": [
          0
         ]
        },
        {
         "marker": {
          "color": "blue",
          "size": 5
         },
         "mode": "markers+text",
         "text": "",
         "type": "scatter3d",
         "x": [
          -750.8971329240237
         ],
         "y": [
          -24.681972594108537
         ],
         "z": [
          0
         ]
        }
       ],
       "layout": {
        "template": {
         "data": {
          "bar": [
           {
            "error_x": {
             "color": "#2a3f5f"
            },
            "error_y": {
             "color": "#2a3f5f"
            },
            "marker": {
             "line": {
              "color": "#E5ECF6",
              "width": 0.5
             },
             "pattern": {
              "fillmode": "overlay",
              "size": 10,
              "solidity": 0.2
             }
            },
            "type": "bar"
           }
          ],
          "barpolar": [
           {
            "marker": {
             "line": {
              "color": "#E5ECF6",
              "width": 0.5
             },
             "pattern": {
              "fillmode": "overlay",
              "size": 10,
              "solidity": 0.2
             }
            },
            "type": "barpolar"
           }
          ],
          "carpet": [
           {
            "aaxis": {
             "endlinecolor": "#2a3f5f",
             "gridcolor": "white",
             "linecolor": "white",
             "minorgridcolor": "white",
             "startlinecolor": "#2a3f5f"
            },
            "baxis": {
             "endlinecolor": "#2a3f5f",
             "gridcolor": "white",
             "linecolor": "white",
             "minorgridcolor": "white",
             "startlinecolor": "#2a3f5f"
            },
            "type": "carpet"
           }
          ],
          "choropleth": [
           {
            "colorbar": {
             "outlinewidth": 0,
             "ticks": ""
            },
            "type": "choropleth"
           }
          ],
          "contour": [
           {
            "colorbar": {
             "outlinewidth": 0,
             "ticks": ""
            },
            "colorscale": [
             [
              0,
              "#0d0887"
             ],
             [
              0.1111111111111111,
              "#46039f"
             ],
             [
              0.2222222222222222,
              "#7201a8"
             ],
             [
              0.3333333333333333,
              "#9c179e"
             ],
             [
              0.4444444444444444,
              "#bd3786"
             ],
             [
              0.5555555555555556,
              "#d8576b"
             ],
             [
              0.6666666666666666,
              "#ed7953"
             ],
             [
              0.7777777777777778,
              "#fb9f3a"
             ],
             [
              0.8888888888888888,
              "#fdca26"
             ],
             [
              1,
              "#f0f921"
             ]
            ],
            "type": "contour"
           }
          ],
          "contourcarpet": [
           {
            "colorbar": {
             "outlinewidth": 0,
             "ticks": ""
            },
            "type": "contourcarpet"
           }
          ],
          "heatmap": [
           {
            "colorbar": {
             "outlinewidth": 0,
             "ticks": ""
            },
            "colorscale": [
             [
              0,
              "#0d0887"
             ],
             [
              0.1111111111111111,
              "#46039f"
             ],
             [
              0.2222222222222222,
              "#7201a8"
             ],
             [
              0.3333333333333333,
              "#9c179e"
             ],
             [
              0.4444444444444444,
              "#bd3786"
             ],
             [
              0.5555555555555556,
              "#d8576b"
             ],
             [
              0.6666666666666666,
              "#ed7953"
             ],
             [
              0.7777777777777778,
              "#fb9f3a"
             ],
             [
              0.8888888888888888,
              "#fdca26"
             ],
             [
              1,
              "#f0f921"
             ]
            ],
            "type": "heatmap"
           }
          ],
          "heatmapgl": [
           {
            "colorbar": {
             "outlinewidth": 0,
             "ticks": ""
            },
            "colorscale": [
             [
              0,
              "#0d0887"
             ],
             [
              0.1111111111111111,
              "#46039f"
             ],
             [
              0.2222222222222222,
              "#7201a8"
             ],
             [
              0.3333333333333333,
              "#9c179e"
             ],
             [
              0.4444444444444444,
              "#bd3786"
             ],
             [
              0.5555555555555556,
              "#d8576b"
             ],
             [
              0.6666666666666666,
              "#ed7953"
             ],
             [
              0.7777777777777778,
              "#fb9f3a"
             ],
             [
              0.8888888888888888,
              "#fdca26"
             ],
             [
              1,
              "#f0f921"
             ]
            ],
            "type": "heatmapgl"
           }
          ],
          "histogram": [
           {
            "marker": {
             "pattern": {
              "fillmode": "overlay",
              "size": 10,
              "solidity": 0.2
             }
            },
            "type": "histogram"
           }
          ],
          "histogram2d": [
           {
            "colorbar": {
             "outlinewidth": 0,
             "ticks": ""
            },
            "colorscale": [
             [
              0,
              "#0d0887"
             ],
             [
              0.1111111111111111,
              "#46039f"
             ],
             [
              0.2222222222222222,
              "#7201a8"
             ],
             [
              0.3333333333333333,
              "#9c179e"
             ],
             [
              0.4444444444444444,
              "#bd3786"
             ],
             [
              0.5555555555555556,
              "#d8576b"
             ],
             [
              0.6666666666666666,
              "#ed7953"
             ],
             [
              0.7777777777777778,
              "#fb9f3a"
             ],
             [
              0.8888888888888888,
              "#fdca26"
             ],
             [
              1,
              "#f0f921"
             ]
            ],
            "type": "histogram2d"
           }
          ],
          "histogram2dcontour": [
           {
            "colorbar": {
             "outlinewidth": 0,
             "ticks": ""
            },
            "colorscale": [
             [
              0,
              "#0d0887"
             ],
             [
              0.1111111111111111,
              "#46039f"
             ],
             [
              0.2222222222222222,
              "#7201a8"
             ],
             [
              0.3333333333333333,
              "#9c179e"
             ],
             [
              0.4444444444444444,
              "#bd3786"
             ],
             [
              0.5555555555555556,
              "#d8576b"
             ],
             [
              0.6666666666666666,
              "#ed7953"
             ],
             [
              0.7777777777777778,
              "#fb9f3a"
             ],
             [
              0.8888888888888888,
              "#fdca26"
             ],
             [
              1,
              "#f0f921"
             ]
            ],
            "type": "histogram2dcontour"
           }
          ],
          "mesh3d": [
           {
            "colorbar": {
             "outlinewidth": 0,
             "ticks": ""
            },
            "type": "mesh3d"
           }
          ],
          "parcoords": [
           {
            "line": {
             "colorbar": {
              "outlinewidth": 0,
              "ticks": ""
             }
            },
            "type": "parcoords"
           }
          ],
          "pie": [
           {
            "automargin": true,
            "type": "pie"
           }
          ],
          "scatter": [
           {
            "fillpattern": {
             "fillmode": "overlay",
             "size": 10,
             "solidity": 0.2
            },
            "type": "scatter"
           }
          ],
          "scatter3d": [
           {
            "line": {
             "colorbar": {
              "outlinewidth": 0,
              "ticks": ""
             }
            },
            "marker": {
             "colorbar": {
              "outlinewidth": 0,
              "ticks": ""
             }
            },
            "type": "scatter3d"
           }
          ],
          "scattercarpet": [
           {
            "marker": {
             "colorbar": {
              "outlinewidth": 0,
              "ticks": ""
             }
            },
            "type": "scattercarpet"
           }
          ],
          "scattergeo": [
           {
            "marker": {
             "colorbar": {
              "outlinewidth": 0,
              "ticks": ""
             }
            },
            "type": "scattergeo"
           }
          ],
          "scattergl": [
           {
            "marker": {
             "colorbar": {
              "outlinewidth": 0,
              "ticks": ""
             }
            },
            "type": "scattergl"
           }
          ],
          "scattermapbox": [
           {
            "marker": {
             "colorbar": {
              "outlinewidth": 0,
              "ticks": ""
             }
            },
            "type": "scattermapbox"
           }
          ],
          "scatterpolar": [
           {
            "marker": {
             "colorbar": {
              "outlinewidth": 0,
              "ticks": ""
             }
            },
            "type": "scatterpolar"
           }
          ],
          "scatterpolargl": [
           {
            "marker": {
             "colorbar": {
              "outlinewidth": 0,
              "ticks": ""
             }
            },
            "type": "scatterpolargl"
           }
          ],
          "scatterternary": [
           {
            "marker": {
             "colorbar": {
              "outlinewidth": 0,
              "ticks": ""
             }
            },
            "type": "scatterternary"
           }
          ],
          "surface": [
           {
            "colorbar": {
             "outlinewidth": 0,
             "ticks": ""
            },
            "colorscale": [
             [
              0,
              "#0d0887"
             ],
             [
              0.1111111111111111,
              "#46039f"
             ],
             [
              0.2222222222222222,
              "#7201a8"
             ],
             [
              0.3333333333333333,
              "#9c179e"
             ],
             [
              0.4444444444444444,
              "#bd3786"
             ],
             [
              0.5555555555555556,
              "#d8576b"
             ],
             [
              0.6666666666666666,
              "#ed7953"
             ],
             [
              0.7777777777777778,
              "#fb9f3a"
             ],
             [
              0.8888888888888888,
              "#fdca26"
             ],
             [
              1,
              "#f0f921"
             ]
            ],
            "type": "surface"
           }
          ],
          "table": [
           {
            "cells": {
             "fill": {
              "color": "#EBF0F8"
             },
             "line": {
              "color": "white"
             }
            },
            "header": {
             "fill": {
              "color": "#C8D4E3"
             },
             "line": {
              "color": "white"
             }
            },
            "type": "table"
           }
          ]
         },
         "layout": {
          "annotationdefaults": {
           "arrowcolor": "#2a3f5f",
           "arrowhead": 0,
           "arrowwidth": 1
          },
          "autotypenumbers": "strict",
          "coloraxis": {
           "colorbar": {
            "outlinewidth": 0,
            "ticks": ""
           }
          },
          "colorscale": {
           "diverging": [
            [
             0,
             "#8e0152"
            ],
            [
             0.1,
             "#c51b7d"
            ],
            [
             0.2,
             "#de77ae"
            ],
            [
             0.3,
             "#f1b6da"
            ],
            [
             0.4,
             "#fde0ef"
            ],
            [
             0.5,
             "#f7f7f7"
            ],
            [
             0.6,
             "#e6f5d0"
            ],
            [
             0.7,
             "#b8e186"
            ],
            [
             0.8,
             "#7fbc41"
            ],
            [
             0.9,
             "#4d9221"
            ],
            [
             1,
             "#276419"
            ]
           ],
           "sequential": [
            [
             0,
             "#0d0887"
            ],
            [
             0.1111111111111111,
             "#46039f"
            ],
            [
             0.2222222222222222,
             "#7201a8"
            ],
            [
             0.3333333333333333,
             "#9c179e"
            ],
            [
             0.4444444444444444,
             "#bd3786"
            ],
            [
             0.5555555555555556,
             "#d8576b"
            ],
            [
             0.6666666666666666,
             "#ed7953"
            ],
            [
             0.7777777777777778,
             "#fb9f3a"
            ],
            [
             0.8888888888888888,
             "#fdca26"
            ],
            [
             1,
             "#f0f921"
            ]
           ],
           "sequentialminus": [
            [
             0,
             "#0d0887"
            ],
            [
             0.1111111111111111,
             "#46039f"
            ],
            [
             0.2222222222222222,
             "#7201a8"
            ],
            [
             0.3333333333333333,
             "#9c179e"
            ],
            [
             0.4444444444444444,
             "#bd3786"
            ],
            [
             0.5555555555555556,
             "#d8576b"
            ],
            [
             0.6666666666666666,
             "#ed7953"
            ],
            [
             0.7777777777777778,
             "#fb9f3a"
            ],
            [
             0.8888888888888888,
             "#fdca26"
            ],
            [
             1,
             "#f0f921"
            ]
           ]
          },
          "colorway": [
           "#636efa",
           "#EF553B",
           "#00cc96",
           "#ab63fa",
           "#FFA15A",
           "#19d3f3",
           "#FF6692",
           "#B6E880",
           "#FF97FF",
           "#FECB52"
          ],
          "font": {
           "color": "#2a3f5f"
          },
          "geo": {
           "bgcolor": "white",
           "lakecolor": "white",
           "landcolor": "#E5ECF6",
           "showlakes": true,
           "showland": true,
           "subunitcolor": "white"
          },
          "hoverlabel": {
           "align": "left"
          },
          "hovermode": "closest",
          "mapbox": {
           "style": "light"
          },
          "paper_bgcolor": "white",
          "plot_bgcolor": "#E5ECF6",
          "polar": {
           "angularaxis": {
            "gridcolor": "white",
            "linecolor": "white",
            "ticks": ""
           },
           "bgcolor": "#E5ECF6",
           "radialaxis": {
            "gridcolor": "white",
            "linecolor": "white",
            "ticks": ""
           }
          },
          "scene": {
           "xaxis": {
            "backgroundcolor": "#E5ECF6",
            "gridcolor": "white",
            "gridwidth": 2,
            "linecolor": "white",
            "showbackground": true,
            "ticks": "",
            "zerolinecolor": "white"
           },
           "yaxis": {
            "backgroundcolor": "#E5ECF6",
            "gridcolor": "white",
            "gridwidth": 2,
            "linecolor": "white",
            "showbackground": true,
            "ticks": "",
            "zerolinecolor": "white"
           },
           "zaxis": {
            "backgroundcolor": "#E5ECF6",
            "gridcolor": "white",
            "gridwidth": 2,
            "linecolor": "white",
            "showbackground": true,
            "ticks": "",
            "zerolinecolor": "white"
           }
          },
          "shapedefaults": {
           "line": {
            "color": "#2a3f5f"
           }
          },
          "ternary": {
           "aaxis": {
            "gridcolor": "white",
            "linecolor": "white",
            "ticks": ""
           },
           "baxis": {
            "gridcolor": "white",
            "linecolor": "white",
            "ticks": ""
           },
           "bgcolor": "#E5ECF6",
           "caxis": {
            "gridcolor": "white",
            "linecolor": "white",
            "ticks": ""
           }
          },
          "title": {
           "x": 0.05
          },
          "xaxis": {
           "automargin": true,
           "gridcolor": "white",
           "linecolor": "white",
           "ticks": "",
           "title": {
            "standoff": 15
           },
           "zerolinecolor": "white",
           "zerolinewidth": 2
          },
          "yaxis": {
           "automargin": true,
           "gridcolor": "white",
           "linecolor": "white",
           "ticks": "",
           "title": {
            "standoff": 15
           },
           "zerolinecolor": "white",
           "zerolinewidth": 2
          }
         }
        }
       }
      }
     },
     "metadata": {},
     "output_type": "display_data"
    },
    {
     "name": "stderr",
     "output_type": "stream",
     "text": [
      "pyswarms.single.global_best: 100%|██████████|1/1, best_cost=1\n",
      "2024-02-16 11:48:41,522 - pyswarms.single.global_best - INFO - Optimization finished | best cost: 1.0, best pos: [0.37877868 0.13488567]\n"
     ]
    }
   ],
   "source": [
    "from scipy.optimize import minimize\n",
    "# Input parameter\n",
    "fingers_idx = np.array([[0,3,8,17], #thumb (root to tip)\n",
    "                    [4,9,13,18], #index\n",
    "                    [5,10,14,19], #middle\n",
    "                    [6,11,15,20], #ring\n",
    "                    [7,12,16,21]]) #pinky\n",
    "    \n",
    "finger_radius = 10 # mm\n",
    "LMC_H = 600 # mm\n",
    "\n",
    "num_LMC = 1\n",
    "# Generate data\n",
    "num_poses = 1\n",
    "#handMarkers, palmMarkers, palmPlnNormals, palmCentroids, fingers = generate_hand_poses(num_poses=num_poses, limitsPS=[0, 0], limis_FE=[0, 0], limits_WD=[0, 0])\n",
    "handMarkers, palmMarkers, palmPlnNormals, palmCentroids, fingers = generate_hand_pose(pos=np.array([0, -100, 300]), PS=90, FE=0, WD=0)\n",
    "\n",
    "\n",
    "data = [handMarkers, palmMarkers, palmPlnNormals, palmCentroids, fingers]\n",
    "\n",
    "#x0 = np.zeros(4*num_LMC) # [lmcx, lmcy, lmc_xang, lmc_zang]\n",
    "#x0 = np.random.rand(4*num_LMC) * np.array([10000, 10000, 90, 90]*num_LMC)\n",
    "\n",
    "# optimization\n",
    "def fun(x, args):\n",
    "    #pos = x*np.array([300, 300, 90, 180]*num_LMC)\n",
    "    pos = x*np.array([1000, 1000]*num_LMC)\n",
    "    print(x)\n",
    "    cost = []\n",
    "    data = args\n",
    "    fig = go.Figure()\n",
    "    for xx in pos: # for each particle\n",
    "        #LMCs = [make_LMC(LMC_loc=[xx[0+4*l], xx[1+4*l], 0], LMC_orient=[xx[2+4*l], 0, xx[3+4*l]], LMC_H=LMC_H) for l in range(num_LMC)]\n",
    "        LMCs = [make_LMC(LMC_loc=[xx[0+4*l], xx[1+4*l], 0], LMC_orient=[0, 0, 0], LMC_H=LMC_H) for l in range(num_LMC)]\n",
    "        occlusions = []\n",
    "        for LMC in LMCs:\n",
    "            for i in range(num_poses):\n",
    "                occlusions += [check_LMC_Hand_visibility(LMC, pos_markers=data[0][i], fingers_idx=fingers_idx, finger_lines=data[4][0], finger_radius=finger_radius, palm_plane_normal=data[2][i], palm_centroid=data[3][i], palm_markers=data[1][i])]\n",
    "\n",
    "        occlusions = np.array(occlusions) \n",
    "        print(occlusions)\n",
    "        #print(np.sum(occlusions))\n",
    "        # fig = go.Figure()\n",
    "        # fig = plotLMC(fig, LMCs[0], color='orange', name='LMC', scale = 30)\n",
    "        # fig = plot_hand(fig, data[0][0])\n",
    "        # fig.show()\n",
    "        \n",
    "        fig = addMarker(fig, LMCs[0][0])\n",
    "        met = (1-(occlusions[0, 0] * occlusions[0, 1])) * 10\n",
    "        met += (5-np.sum(occlusions[0, 2:-1])) * 1\n",
    "        #met += np.linalg.norm(data[0][0] - [xx[0], xx[1], 0])\n",
    "        print(met)\n",
    "        cost.append(met)\n",
    "    fig.show()\n",
    "    return cost\n",
    "\n",
    "#print(fun(x0, data))\n",
    "\n",
    "#res = minimize(fun, x0, args=(data), options=dict(disp = True))#, method='SLSQP')\n",
    "from pyswarms.single.global_best import GlobalBestPSO\n",
    "\n",
    "# instatiate the optimizer\n",
    "options = {'c1': 0.5, 'c2': 0.3, 'w': 0.9}\n",
    "# x_max = np.array([300, 300, 90, 180]*num_LMC)\n",
    "# x_min = np.array([-300, -300, -90, -180]*num_LMC)\n",
    "x_max = np.array([1, 1, 1, 1]*num_LMC)\n",
    "x_min = np.array([-1, -1, -1, -1]*num_LMC)\n",
    "x_max = np.array([1, 1]*num_LMC)\n",
    "x_min = np.array([-1, -1]*num_LMC)\n",
    "bounds = (x_min, x_max)\n",
    "optimizer = GlobalBestPSO(n_particles=10, dimensions=2*num_LMC, options=options, bounds=bounds)\n",
    "\n",
    "# now run the optimization, pass a=1 and b=100 as a tuple assigned to args\n",
    "cost, pos = optimizer.optimize(fun, 1, args=(data))\n",
    "\n"
   ]
  },
  {
   "cell_type": "code",
   "execution_count": 47,
   "metadata": {},
   "outputs": [
    {
     "name": "stdout",
     "output_type": "stream",
     "text": [
      "1.0 [0.37877868 0.13488567]\n"
     ]
    }
   ],
   "source": [
    "print(cost, pos)"
   ]
  },
  {
   "cell_type": "code",
   "execution_count": 49,
   "metadata": {},
   "outputs": [
    {
     "name": "stdout",
     "output_type": "stream",
     "text": [
      "[378.7786847  134.88566804]\n",
      "[[1. 1. 1. 1. 1. 1. 1.]]\n"
     ]
    },
    {
     "data": {
      "application/vnd.plotly.v1+json": {
       "config": {
        "plotlyServerURL": "https://plot.ly"
       },
       "data": [
        {
         "marker": {
          "color": "orange",
          "size": 5
         },
         "mode": "markers+text",
         "type": "scatter3d",
         "x": [
          378.7786846977279
         ],
         "y": [
          134.88566804347624
         ],
         "z": [
          0
         ]
        },
        {
         "line": {
          "color": "orange",
          "width": 2
         },
         "mode": "lines",
         "type": "scatter3d",
         "x": [
          378.7786846977279,
          378.7786846977279,
          null
         ],
         "y": [
          134.88566804347624,
          -124.92195309185536,
          null
         ],
         "z": [
          0,
          149.99999999999997,
          null
         ]
        },
        {
         "colorscale": [
          [
           0,
           "orange"
          ],
          [
           1,
           "orange"
          ]
         ],
         "showlegend": false,
         "showscale": false,
         "type": "cone",
         "u": [
          0
         ],
         "v": [
          -77.94228634059948
         ],
         "w": [
          44.99999999999999
         ],
         "x": [
          378.7786846977279
         ],
         "y": [
          -119.72580066914873
         ],
         "z": [
          146.99999999999997
         ]
        },
        {
         "marker": {
          "color": "orange",
          "size": 5
         },
         "mode": "markers+text",
         "type": "scatter3d",
         "x": [
          378.7786846977279
         ],
         "y": [
          134.88566804347624
         ],
         "z": [
          0
         ]
        },
        {
         "line": {
          "color": "orange",
          "width": 2
         },
         "mode": "lines",
         "type": "scatter3d",
         "x": [
          378.7786846977279,
          668.5564325844484,
          null
         ],
         "y": [
          134.88566804347624,
          134.88566804347624,
          null
         ],
         "z": [
          0,
          77.64571353075623,
          null
         ]
        },
        {
         "colorscale": [
          [
           0,
           "orange"
          ],
          [
           1,
           "orange"
          ]
         ],
         "showlegend": false,
         "showscale": false,
         "type": "cone",
         "u": [
          86.93332436601615
         ],
         "v": [
          0
         ],
         "w": [
          23.29371405922687
         ],
         "x": [
          662.7608776267141
         ],
         "y": [
          134.88566804347624
         ],
         "z": [
          76.0927992601411
         ]
        },
        {
         "marker": {
          "color": "orange",
          "size": 5
         },
         "mode": "markers+text",
         "type": "scatter3d",
         "x": [
          378.7786846977279
         ],
         "y": [
          134.88566804347624
         ],
         "z": [
          0
         ]
        },
        {
         "line": {
          "color": "orange",
          "width": 2
         },
         "mode": "lines",
         "type": "scatter3d",
         "x": [
          378.7786846977279,
          378.7786846977279,
          null
         ],
         "y": [
          134.88566804347624,
          394.69328917880785,
          null
         ],
         "z": [
          0,
          149.99999999999997,
          null
         ]
        },
        {
         "colorscale": [
          [
           0,
           "orange"
          ],
          [
           1,
           "orange"
          ]
         ],
         "showlegend": false,
         "showscale": false,
         "type": "cone",
         "u": [
          0
         ],
         "v": [
          77.94228634059948
         ],
         "w": [
          44.99999999999999
         ],
         "x": [
          378.7786846977279
         ],
         "y": [
          389.4971367561012
         ],
         "z": [
          146.99999999999997
         ]
        },
        {
         "marker": {
          "color": "orange",
          "size": 5
         },
         "mode": "markers+text",
         "type": "scatter3d",
         "x": [
          378.7786846977279
         ],
         "y": [
          134.88566804347624
         ],
         "z": [
          0
         ]
        },
        {
         "line": {
          "color": "orange",
          "width": 2
         },
         "mode": "lines",
         "type": "scatter3d",
         "x": [
          378.7786846977279,
          89.00093681100742,
          null
         ],
         "y": [
          134.88566804347624,
          134.88566804347624,
          null
         ],
         "z": [
          0,
          77.64571353075623,
          null
         ]
        },
        {
         "colorscale": [
          [
           0,
           "orange"
          ],
          [
           1,
           "orange"
          ]
         ],
         "showlegend": false,
         "showscale": false,
         "type": "cone",
         "u": [
          -86.93332436601614
         ],
         "v": [
          0
         ],
         "w": [
          23.29371405922687
         ],
         "x": [
          94.79649176874182
         ],
         "y": [
          134.88566804347624
         ],
         "z": [
          76.0927992601411
         ]
        },
        {
         "marker": {
          "color": "orange",
          "size": 5
         },
         "mode": "markers+text",
         "text": "0d",
         "type": "scatter3d",
         "x": [
          378.7786846977279
         ],
         "y": [
          4.981857475810443
         ],
         "z": [
          74.99999999999999
         ]
        },
        {
         "marker": {
          "color": "orange",
          "size": 5
         },
         "mode": "markers+text",
         "text": "1d",
         "type": "scatter3d",
         "x": [
          523.6675586410881
         ],
         "y": [
          134.88566804347624
         ],
         "z": [
          38.82285676537811
         ]
        },
        {
         "marker": {
          "color": "orange",
          "size": 5
         },
         "mode": "markers+text",
         "text": "2d",
         "type": "scatter3d",
         "x": [
          378.7786846977279
         ],
         "y": [
          264.78947861114204
         ],
         "z": [
          74.99999999999999
         ]
        },
        {
         "marker": {
          "color": "orange",
          "size": 5
         },
         "mode": "markers+text",
         "text": "3d",
         "type": "scatter3d",
         "x": [
          233.88981075436766
         ],
         "y": [
          134.88566804347624
         ],
         "z": [
          38.82285676537811
         ]
        },
        {
         "marker": {
          "color": "orange",
          "size": 5
         },
         "mode": "markers+text",
         "type": "scatter3d",
         "x": [
          378.7786846977279
         ],
         "y": [
          134.88566804347624
         ],
         "z": [
          0
         ]
        },
        {
         "line": {
          "color": "orange",
          "width": 2
         },
         "mode": "lines",
         "type": "scatter3d",
         "x": [
          378.7786846977279,
          378.7786846977279,
          null
         ],
         "y": [
          134.88566804347624,
          434.88566804347624,
          null
         ],
         "z": [
          0,
          0,
          null
         ]
        },
        {
         "colorscale": [
          [
           0,
           "orange"
          ],
          [
           1,
           "orange"
          ]
         ],
         "showlegend": false,
         "showscale": false,
         "type": "cone",
         "u": [
          0
         ],
         "v": [
          90
         ],
         "w": [
          0
         ],
         "x": [
          378.7786846977279
         ],
         "y": [
          428.88566804347624
         ],
         "z": [
          0
         ]
        },
        {
         "marker": {
          "color": "orange",
          "size": 5
         },
         "mode": "markers+text",
         "text": "LMC",
         "type": "scatter3d",
         "x": [
          378.7786846977279
         ],
         "y": [
          134.88566804347624
         ],
         "z": [
          0
         ]
        },
        {
         "marker": {
          "color": "blue",
          "size": 5
         },
         "mode": "markers+text",
         "text": [
          0,
          1,
          2,
          3,
          4,
          5,
          6,
          7,
          8,
          9,
          10,
          11,
          12,
          13,
          14,
          15,
          16,
          17,
          18,
          19,
          20,
          21,
          22,
          23,
          24,
          25
         ],
         "type": "scatter3d",
         "x": [
          9.4098110473911,
          -8.9529803308769,
          -7.472844917917064,
          20.778027417231275,
          0.0010895002134085428,
          -1.0959260117360343,
          0.9881856356647079,
          0.563413341429151,
          25.295311971632692,
          4.453402496562397,
          6.295299050436839,
          9.324203933319785,
          6.199065690062207,
          7.678603335372421,
          9.838523962802098,
          12.943633818926138,
          10.324692944889177,
          28.10472268587001,
          8.219368705220678,
          10.283333259796985,
          17.06333488652509,
          11.919775489292466,
          49.566143615149095,
          -2.960560702861752,
          -0.00009321185828976525,
          0.00009321185829580334
         ],
         "y": [
          -68.48161875460463,
          -45.129174919162026,
          -48.161424548364664,
          -33.742580156886596,
          11.5304423163642,
          11.175091087345931,
          7.7121800464186085,
          -3.673851527731642,
          -4.25071085069878,
          55.77138830220385,
          60.38585388206965,
          57.96136906421048,
          31.034931688866234,
          82.25263363419619,
          89.91096208035118,
          81.42439166436314,
          53.627917689367756,
          21.024447205886556,
          98.5784306291386,
          105.92628123187133,
          100.18788190734374,
          69.93349235139029,
          -290.2650498206238,
          -293.40222525835344,
          -99.06222194990012,
          -100.93777805009977
         ],
         "z": [
          262.4715783303531,
          280.5741990572509,
          326.62623442496306,
          240.51994345652255,
          278.051008547417,
          300.65920027170023,
          320.59286737531755,
          338.73165361068436,
          233.3944482655405,
          280.16681882959637,
          301.097299137167,
          322.3511990888108,
          340.55978246487365,
          283.03777729641934,
          302.146898549276,
          322.54547676411613,
          338.7387923221184,
          230.3229850303637,
          284.2097033936271,
          302.90879454342013,
          323.13460093047416,
          339.0866811729465,
          298.264927696833,
          330.7823336386574,
          326.0043630127447,
          273.9956369872552
         ]
        }
       ],
       "layout": {
        "height": 1024,
        "scene": {
         "aspectmode": "data",
         "aspectratio": {
          "x": 1,
          "y": 1,
          "z": 1
         },
         "camera": {
          "center": {
           "x": 0,
           "y": 0,
           "z": 0
          },
          "eye": {
           "x": -2,
           "y": -0.5,
           "z": 3
          },
          "up": {
           "x": 0,
           "y": 0,
           "z": 20
          }
         }
        },
        "template": {
         "data": {
          "bar": [
           {
            "error_x": {
             "color": "#2a3f5f"
            },
            "error_y": {
             "color": "#2a3f5f"
            },
            "marker": {
             "line": {
              "color": "#E5ECF6",
              "width": 0.5
             },
             "pattern": {
              "fillmode": "overlay",
              "size": 10,
              "solidity": 0.2
             }
            },
            "type": "bar"
           }
          ],
          "barpolar": [
           {
            "marker": {
             "line": {
              "color": "#E5ECF6",
              "width": 0.5
             },
             "pattern": {
              "fillmode": "overlay",
              "size": 10,
              "solidity": 0.2
             }
            },
            "type": "barpolar"
           }
          ],
          "carpet": [
           {
            "aaxis": {
             "endlinecolor": "#2a3f5f",
             "gridcolor": "white",
             "linecolor": "white",
             "minorgridcolor": "white",
             "startlinecolor": "#2a3f5f"
            },
            "baxis": {
             "endlinecolor": "#2a3f5f",
             "gridcolor": "white",
             "linecolor": "white",
             "minorgridcolor": "white",
             "startlinecolor": "#2a3f5f"
            },
            "type": "carpet"
           }
          ],
          "choropleth": [
           {
            "colorbar": {
             "outlinewidth": 0,
             "ticks": ""
            },
            "type": "choropleth"
           }
          ],
          "contour": [
           {
            "colorbar": {
             "outlinewidth": 0,
             "ticks": ""
            },
            "colorscale": [
             [
              0,
              "#0d0887"
             ],
             [
              0.1111111111111111,
              "#46039f"
             ],
             [
              0.2222222222222222,
              "#7201a8"
             ],
             [
              0.3333333333333333,
              "#9c179e"
             ],
             [
              0.4444444444444444,
              "#bd3786"
             ],
             [
              0.5555555555555556,
              "#d8576b"
             ],
             [
              0.6666666666666666,
              "#ed7953"
             ],
             [
              0.7777777777777778,
              "#fb9f3a"
             ],
             [
              0.8888888888888888,
              "#fdca26"
             ],
             [
              1,
              "#f0f921"
             ]
            ],
            "type": "contour"
           }
          ],
          "contourcarpet": [
           {
            "colorbar": {
             "outlinewidth": 0,
             "ticks": ""
            },
            "type": "contourcarpet"
           }
          ],
          "heatmap": [
           {
            "colorbar": {
             "outlinewidth": 0,
             "ticks": ""
            },
            "colorscale": [
             [
              0,
              "#0d0887"
             ],
             [
              0.1111111111111111,
              "#46039f"
             ],
             [
              0.2222222222222222,
              "#7201a8"
             ],
             [
              0.3333333333333333,
              "#9c179e"
             ],
             [
              0.4444444444444444,
              "#bd3786"
             ],
             [
              0.5555555555555556,
              "#d8576b"
             ],
             [
              0.6666666666666666,
              "#ed7953"
             ],
             [
              0.7777777777777778,
              "#fb9f3a"
             ],
             [
              0.8888888888888888,
              "#fdca26"
             ],
             [
              1,
              "#f0f921"
             ]
            ],
            "type": "heatmap"
           }
          ],
          "heatmapgl": [
           {
            "colorbar": {
             "outlinewidth": 0,
             "ticks": ""
            },
            "colorscale": [
             [
              0,
              "#0d0887"
             ],
             [
              0.1111111111111111,
              "#46039f"
             ],
             [
              0.2222222222222222,
              "#7201a8"
             ],
             [
              0.3333333333333333,
              "#9c179e"
             ],
             [
              0.4444444444444444,
              "#bd3786"
             ],
             [
              0.5555555555555556,
              "#d8576b"
             ],
             [
              0.6666666666666666,
              "#ed7953"
             ],
             [
              0.7777777777777778,
              "#fb9f3a"
             ],
             [
              0.8888888888888888,
              "#fdca26"
             ],
             [
              1,
              "#f0f921"
             ]
            ],
            "type": "heatmapgl"
           }
          ],
          "histogram": [
           {
            "marker": {
             "pattern": {
              "fillmode": "overlay",
              "size": 10,
              "solidity": 0.2
             }
            },
            "type": "histogram"
           }
          ],
          "histogram2d": [
           {
            "colorbar": {
             "outlinewidth": 0,
             "ticks": ""
            },
            "colorscale": [
             [
              0,
              "#0d0887"
             ],
             [
              0.1111111111111111,
              "#46039f"
             ],
             [
              0.2222222222222222,
              "#7201a8"
             ],
             [
              0.3333333333333333,
              "#9c179e"
             ],
             [
              0.4444444444444444,
              "#bd3786"
             ],
             [
              0.5555555555555556,
              "#d8576b"
             ],
             [
              0.6666666666666666,
              "#ed7953"
             ],
             [
              0.7777777777777778,
              "#fb9f3a"
             ],
             [
              0.8888888888888888,
              "#fdca26"
             ],
             [
              1,
              "#f0f921"
             ]
            ],
            "type": "histogram2d"
           }
          ],
          "histogram2dcontour": [
           {
            "colorbar": {
             "outlinewidth": 0,
             "ticks": ""
            },
            "colorscale": [
             [
              0,
              "#0d0887"
             ],
             [
              0.1111111111111111,
              "#46039f"
             ],
             [
              0.2222222222222222,
              "#7201a8"
             ],
             [
              0.3333333333333333,
              "#9c179e"
             ],
             [
              0.4444444444444444,
              "#bd3786"
             ],
             [
              0.5555555555555556,
              "#d8576b"
             ],
             [
              0.6666666666666666,
              "#ed7953"
             ],
             [
              0.7777777777777778,
              "#fb9f3a"
             ],
             [
              0.8888888888888888,
              "#fdca26"
             ],
             [
              1,
              "#f0f921"
             ]
            ],
            "type": "histogram2dcontour"
           }
          ],
          "mesh3d": [
           {
            "colorbar": {
             "outlinewidth": 0,
             "ticks": ""
            },
            "type": "mesh3d"
           }
          ],
          "parcoords": [
           {
            "line": {
             "colorbar": {
              "outlinewidth": 0,
              "ticks": ""
             }
            },
            "type": "parcoords"
           }
          ],
          "pie": [
           {
            "automargin": true,
            "type": "pie"
           }
          ],
          "scatter": [
           {
            "fillpattern": {
             "fillmode": "overlay",
             "size": 10,
             "solidity": 0.2
            },
            "type": "scatter"
           }
          ],
          "scatter3d": [
           {
            "line": {
             "colorbar": {
              "outlinewidth": 0,
              "ticks": ""
             }
            },
            "marker": {
             "colorbar": {
              "outlinewidth": 0,
              "ticks": ""
             }
            },
            "type": "scatter3d"
           }
          ],
          "scattercarpet": [
           {
            "marker": {
             "colorbar": {
              "outlinewidth": 0,
              "ticks": ""
             }
            },
            "type": "scattercarpet"
           }
          ],
          "scattergeo": [
           {
            "marker": {
             "colorbar": {
              "outlinewidth": 0,
              "ticks": ""
             }
            },
            "type": "scattergeo"
           }
          ],
          "scattergl": [
           {
            "marker": {
             "colorbar": {
              "outlinewidth": 0,
              "ticks": ""
             }
            },
            "type": "scattergl"
           }
          ],
          "scattermapbox": [
           {
            "marker": {
             "colorbar": {
              "outlinewidth": 0,
              "ticks": ""
             }
            },
            "type": "scattermapbox"
           }
          ],
          "scatterpolar": [
           {
            "marker": {
             "colorbar": {
              "outlinewidth": 0,
              "ticks": ""
             }
            },
            "type": "scatterpolar"
           }
          ],
          "scatterpolargl": [
           {
            "marker": {
             "colorbar": {
              "outlinewidth": 0,
              "ticks": ""
             }
            },
            "type": "scatterpolargl"
           }
          ],
          "scatterternary": [
           {
            "marker": {
             "colorbar": {
              "outlinewidth": 0,
              "ticks": ""
             }
            },
            "type": "scatterternary"
           }
          ],
          "surface": [
           {
            "colorbar": {
             "outlinewidth": 0,
             "ticks": ""
            },
            "colorscale": [
             [
              0,
              "#0d0887"
             ],
             [
              0.1111111111111111,
              "#46039f"
             ],
             [
              0.2222222222222222,
              "#7201a8"
             ],
             [
              0.3333333333333333,
              "#9c179e"
             ],
             [
              0.4444444444444444,
              "#bd3786"
             ],
             [
              0.5555555555555556,
              "#d8576b"
             ],
             [
              0.6666666666666666,
              "#ed7953"
             ],
             [
              0.7777777777777778,
              "#fb9f3a"
             ],
             [
              0.8888888888888888,
              "#fdca26"
             ],
             [
              1,
              "#f0f921"
             ]
            ],
            "type": "surface"
           }
          ],
          "table": [
           {
            "cells": {
             "fill": {
              "color": "#EBF0F8"
             },
             "line": {
              "color": "white"
             }
            },
            "header": {
             "fill": {
              "color": "#C8D4E3"
             },
             "line": {
              "color": "white"
             }
            },
            "type": "table"
           }
          ]
         },
         "layout": {
          "annotationdefaults": {
           "arrowcolor": "#2a3f5f",
           "arrowhead": 0,
           "arrowwidth": 1
          },
          "autotypenumbers": "strict",
          "coloraxis": {
           "colorbar": {
            "outlinewidth": 0,
            "ticks": ""
           }
          },
          "colorscale": {
           "diverging": [
            [
             0,
             "#8e0152"
            ],
            [
             0.1,
             "#c51b7d"
            ],
            [
             0.2,
             "#de77ae"
            ],
            [
             0.3,
             "#f1b6da"
            ],
            [
             0.4,
             "#fde0ef"
            ],
            [
             0.5,
             "#f7f7f7"
            ],
            [
             0.6,
             "#e6f5d0"
            ],
            [
             0.7,
             "#b8e186"
            ],
            [
             0.8,
             "#7fbc41"
            ],
            [
             0.9,
             "#4d9221"
            ],
            [
             1,
             "#276419"
            ]
           ],
           "sequential": [
            [
             0,
             "#0d0887"
            ],
            [
             0.1111111111111111,
             "#46039f"
            ],
            [
             0.2222222222222222,
             "#7201a8"
            ],
            [
             0.3333333333333333,
             "#9c179e"
            ],
            [
             0.4444444444444444,
             "#bd3786"
            ],
            [
             0.5555555555555556,
             "#d8576b"
            ],
            [
             0.6666666666666666,
             "#ed7953"
            ],
            [
             0.7777777777777778,
             "#fb9f3a"
            ],
            [
             0.8888888888888888,
             "#fdca26"
            ],
            [
             1,
             "#f0f921"
            ]
           ],
           "sequentialminus": [
            [
             0,
             "#0d0887"
            ],
            [
             0.1111111111111111,
             "#46039f"
            ],
            [
             0.2222222222222222,
             "#7201a8"
            ],
            [
             0.3333333333333333,
             "#9c179e"
            ],
            [
             0.4444444444444444,
             "#bd3786"
            ],
            [
             0.5555555555555556,
             "#d8576b"
            ],
            [
             0.6666666666666666,
             "#ed7953"
            ],
            [
             0.7777777777777778,
             "#fb9f3a"
            ],
            [
             0.8888888888888888,
             "#fdca26"
            ],
            [
             1,
             "#f0f921"
            ]
           ]
          },
          "colorway": [
           "#636efa",
           "#EF553B",
           "#00cc96",
           "#ab63fa",
           "#FFA15A",
           "#19d3f3",
           "#FF6692",
           "#B6E880",
           "#FF97FF",
           "#FECB52"
          ],
          "font": {
           "color": "#2a3f5f"
          },
          "geo": {
           "bgcolor": "white",
           "lakecolor": "white",
           "landcolor": "#E5ECF6",
           "showlakes": true,
           "showland": true,
           "subunitcolor": "white"
          },
          "hoverlabel": {
           "align": "left"
          },
          "hovermode": "closest",
          "mapbox": {
           "style": "light"
          },
          "paper_bgcolor": "white",
          "plot_bgcolor": "#E5ECF6",
          "polar": {
           "angularaxis": {
            "gridcolor": "white",
            "linecolor": "white",
            "ticks": ""
           },
           "bgcolor": "#E5ECF6",
           "radialaxis": {
            "gridcolor": "white",
            "linecolor": "white",
            "ticks": ""
           }
          },
          "scene": {
           "xaxis": {
            "backgroundcolor": "#E5ECF6",
            "gridcolor": "white",
            "gridwidth": 2,
            "linecolor": "white",
            "showbackground": true,
            "ticks": "",
            "zerolinecolor": "white"
           },
           "yaxis": {
            "backgroundcolor": "#E5ECF6",
            "gridcolor": "white",
            "gridwidth": 2,
            "linecolor": "white",
            "showbackground": true,
            "ticks": "",
            "zerolinecolor": "white"
           },
           "zaxis": {
            "backgroundcolor": "#E5ECF6",
            "gridcolor": "white",
            "gridwidth": 2,
            "linecolor": "white",
            "showbackground": true,
            "ticks": "",
            "zerolinecolor": "white"
           }
          },
          "shapedefaults": {
           "line": {
            "color": "#2a3f5f"
           }
          },
          "ternary": {
           "aaxis": {
            "gridcolor": "white",
            "linecolor": "white",
            "ticks": ""
           },
           "baxis": {
            "gridcolor": "white",
            "linecolor": "white",
            "ticks": ""
           },
           "bgcolor": "#E5ECF6",
           "caxis": {
            "gridcolor": "white",
            "linecolor": "white",
            "ticks": ""
           }
          },
          "title": {
           "x": 0.05
          },
          "xaxis": {
           "automargin": true,
           "gridcolor": "white",
           "linecolor": "white",
           "ticks": "",
           "title": {
            "standoff": 15
           },
           "zerolinecolor": "white",
           "zerolinewidth": 2
          },
          "yaxis": {
           "automargin": true,
           "gridcolor": "white",
           "linecolor": "white",
           "ticks": "",
           "title": {
            "standoff": 15
           },
           "zerolinecolor": "white",
           "zerolinewidth": 2
          }
         }
        },
        "width": 1024
       }
      }
     },
     "metadata": {},
     "output_type": "display_data"
    }
   ],
   "source": [
    "x = pos * np.array([1000, 1000]*num_LMC)\n",
    "print(x)\n",
    "#x = np.array([300, 0, 0, 0])\n",
    "LMCs = [make_LMC(LMC_loc=[x[0+4*l], x[1+4*l], 0], LMC_orient=[0, 0, 0], LMC_H=LMC_H) for l in range(num_LMC)]\n",
    "\n",
    "occlusions = []\n",
    "for LMC in LMCs:\n",
    "    for i in range(num_poses):\n",
    "        occlusions += [check_LMC_Hand_visibility(LMC, pos_markers=data[0][i], fingers_idx=fingers_idx, finger_lines=data[4][0], finger_radius=finger_radius, palm_plane_normal=data[2][i], palm_centroid=data[3][i], palm_markers=data[1][i])]\n",
    "\n",
    "occlusions = np.array(occlusions)\n",
    "print(occlusions)\n",
    "fig = go.Figure()\n",
    "fig = plotLMC(fig, LMCs[0], color='orange', name='LMC', scale = 30)\n",
    "fig = plot_hand(fig, data[0][0])\n",
    "fig.show()"
   ]
  },
  {
   "cell_type": "markdown",
   "metadata": {},
   "source": [
    "# TEsts"
   ]
  },
  {
   "cell_type": "code",
   "execution_count": null,
   "metadata": {},
   "outputs": [],
   "source": [
    "\n",
    "\n",
    "t_p1 = np.array([-20, 100, 40])\n",
    "t_p2 = np.array([40, 50, 0])\n",
    "\n",
    "fig = plot_hand(pos_markers)\n",
    "fig = plot_hand_and_marker(pos_markers, [0, 0, 0], fig=fig, color='black')\n",
    "fig = plot_hand_and_marker(pos_markers, t_p1, fig=fig, color='green')\n",
    "fig = plot_hand_and_marker(pos_markers, t_p2, fig=fig, color='green')\n",
    "fig = plot_hand_and_marker(pos_markers, palm_centroid, fig=fig)\n",
    "fig = addArrow(fig, palm_centroid, n*100, color='red')\n",
    "\n",
    "v = t_p1 - t_p2\n",
    "v = v / np.linalg.norm(v)\n",
    "itsctpnt = intersectionPoint_pln_line(n, v, palm_centroid, t_p2)\n",
    "\n",
    "print(in_hull(pos_markers[palm_plane_idx], itsctpnt))\n",
    "\n",
    "fig = plot_hand_and_marker(pos_markers, itsctpnt, fig=fig, color='orange')\n",
    "fig = addArrow(fig, t_p2, v*100, color='green')\n",
    "\n",
    "# see if crosses a finger\n",
    "# testpoints\n",
    "pt1 = (pos_markers[10] + pos_markers[14]) / 2 + [0, -20, 30]\n",
    "pt2 = (pos_markers[10] + pos_markers[14]) / 2 + [10, -20, -30]\n",
    "v1 = pt1-pt2\n",
    "v1 /= np.linalg.norm(v1)\n",
    "\n",
    "fig = plot_hand_and_marker(pos_markers, pt1, fig=fig, color='pink', name='pt1')\n",
    "fig = plot_hand_and_marker(pos_markers, pt2, fig=fig, color='cyan', name='pt2')\n",
    "fig = addArrow(fig, pt2, v1*100, color='cyan')\n",
    "\n",
    "v2 = pos_markers[14] - pos_markers[10]\n",
    "v2 = v2 / np.linalg.norm(v2)\n",
    "\n",
    "# nl = np.cross(ray, line)\n",
    "# nl /= np.linalg.norm(nl)\n",
    "\n",
    "# d = abs(nl @ (pos_markers[10] - p2)) / np.linalg.norm(nl)\n",
    "\n",
    "# t1 = ((np.cross(line, nl)) @ (pos_markers[10] - p2)) / (nl @ nl)\n",
    "# print(t1)\n",
    "# print(d)\n",
    "\n",
    "d, t1, t2 = dist_lines(pt2, pos_markers[10], v1, v2)\n",
    "\n",
    "print(d, t1, t2)\n",
    "\n",
    "fig = plot_hand_and_marker(pos_markers, pt2+v1*t1, fig=fig, color='cyan', name='closest')\n",
    "fig = plot_hand_and_marker(pos_markers, pos_markers[10]+v2*t2, fig=fig, color='cyan', name='closest')\n",
    "fig = addArrow(fig, pos_markers[10], v2*100, color='cyan')\n",
    "\n",
    "\n",
    "\n",
    "\n",
    "\n",
    "fig.show()\n"
   ]
  },
  {
   "cell_type": "code",
   "execution_count": null,
   "metadata": {},
   "outputs": [],
   "source": []
  },
  {
   "cell_type": "code",
   "execution_count": null,
   "metadata": {},
   "outputs": [],
   "source": []
  },
  {
   "cell_type": "code",
   "execution_count": null,
   "metadata": {},
   "outputs": [],
   "source": []
  }
 ],
 "metadata": {
  "kernelspec": {
   "display_name": "OpenSim44",
   "language": "python",
   "name": "python3"
  },
  "language_info": {
   "codemirror_mode": {
    "name": "ipython",
    "version": 3
   },
   "file_extension": ".py",
   "mimetype": "text/x-python",
   "name": "python",
   "nbconvert_exporter": "python",
   "pygments_lexer": "ipython3",
   "version": "3.8.16"
  }
 },
 "nbformat": 4,
 "nbformat_minor": 2
}
